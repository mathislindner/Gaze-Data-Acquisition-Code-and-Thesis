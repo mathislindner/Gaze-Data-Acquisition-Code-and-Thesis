{
 "cells": [
  {
   "cell_type": "code",
   "execution_count": null,
   "metadata": {},
   "outputs": [],
   "source": [
    "import pandas as pd\n",
    "import numpy as np\n",
    "from matplotlib import pyplot as plt\n",
    "import os\n",
    "import sys\n",
    "sys.path.append(os.path.dirname(os.path.abspath(\"\")))\n",
    "from dependencies.constants import *"
   ]
  },
  {
   "attachments": {},
   "cell_type": "markdown",
   "metadata": {},
   "source": [
    "## plot helpers"
   ]
  },
  {
   "cell_type": "code",
   "execution_count": null,
   "metadata": {},
   "outputs": [],
   "source": [
    "def get_image_paths(df_row):\n",
    "    export_folder = os.path.join(exports_folder, df_row[\"recording id\"])\n",
    "    image_paths = np.empty((4), dtype=object)\n",
    "    for i, (camera_folder,index_name) in enumerate(zip(camera_folders, indices_names)):\n",
    "        image_paths[i] = os.path.join(export_folder, camera_folder, str(df_row[index_name])+ \".png\")\n",
    "    return image_paths\n",
    "\n",
    "def get_images(image_paths):\n",
    "    images = []\n",
    "    for image_path in image_paths:\n",
    "        images.append(plt.imread(image_path))\n",
    "    return images"
   ]
  },
  {
   "attachments": {},
   "cell_type": "markdown",
   "metadata": {},
   "source": [
    "## plot 10 random samples"
   ]
  },
  {
   "cell_type": "code",
   "execution_count": null,
   "metadata": {},
   "outputs": [],
   "source": [
    "\n",
    "exports_df = pd.read_csv(os.path.join(exports_folder, \"all_df.csv\"))\n",
    "#select 10 random rows\n",
    "random_df = exports_df.sample(n=10)\n",
    "#apply function to each row\n",
    "image_paths = random_df.apply(lambda x: get_image_paths(x), axis=1)\n",
    "\n",
    "#images is a list of lists of 4 images (one for each camera) for each row\n",
    "images = []\n",
    "for image_path in image_paths:\n",
    "    images.append(get_images(image_path))\n",
    "\n",
    "#plot images\n",
    "fig, axes = plt.subplots(4, 10, figsize=(15, 6),\n",
    "                            subplot_kw={'xticks': [], 'yticks': []})\n",
    "#plot from top to bottom, left to right\n",
    "for i in range(10):\n",
    "    for j in range(4):\n",
    "        #rotate left when j == 0 and rotate right when j == 1\n",
    "        if j == 0:\n",
    "            axes[j, i].imshow(np.rot90(images[i][j], k=1))\n",
    "        elif j == 1:\n",
    "            axes[j, i].imshow(np.rot90(images[i][j], k=1))\n",
    "        else:\n",
    "            axes[j, i].imshow(images[i][j])\n",
    "\n",
    "plt.show()\n",
    "\n"
   ]
  },
  {
   "cell_type": "code",
   "execution_count": null,
   "metadata": {},
   "outputs": [],
   "source": [
    "#isntall seaborn conda\n",
    "!conda install seaborn -y"
   ]
  },
  {
   "cell_type": "code",
   "execution_count": null,
   "metadata": {},
   "outputs": [],
   "source": [
    "import seaborn as sns\n",
    "\n",
    "#draw a heatmap of the gaze points\n",
    "laser_coordinates_names = [\"laser_2D_u_depth_camera\", \"laser_2D_v_depth_camera\"]\n",
    "#plot heatmap\n",
    "\n",
    "laser_positions_index = exports_df.index\n",
    "laser_positions = exports_df[laser_coordinates_names].to_numpy()\n",
    "sns.heatmap(laser_positions, index=laser_positions.index, cmap=\"YlGnBu\")\n"
   ]
  },
  {
   "cell_type": "code",
   "execution_count": null,
   "metadata": {},
   "outputs": [],
   "source": [
    "laser_positions"
   ]
  }
 ],
 "metadata": {
  "kernelspec": {
   "display_name": "gazeacq",
   "language": "python",
   "name": "python3"
  },
  "language_info": {
   "codemirror_mode": {
    "name": "ipython",
    "version": 3
   },
   "file_extension": ".py",
   "mimetype": "text/x-python",
   "name": "python",
   "nbconvert_exporter": "python",
   "pygments_lexer": "ipython3",
   "version": "3.8.16"
  },
  "orig_nbformat": 4
 },
 "nbformat": 4,
 "nbformat_minor": 2
}
