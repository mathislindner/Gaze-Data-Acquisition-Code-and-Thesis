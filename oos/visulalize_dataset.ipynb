{
 "cells": [
  {
   "cell_type": "code",
   "execution_count": 92,
   "metadata": {},
   "outputs": [],
   "source": [
    "import pandas as pd\n",
    "import numpy as np\n",
    "from matplotlib import pyplot as plt\n",
    "import os\n",
    "import sys\n",
    "sys.path.append(os.path.dirname(os.path.abspath(\"\")))\n",
    "from dependencies.constants import *"
   ]
  },
  {
   "cell_type": "code",
   "execution_count": 114,
   "metadata": {},
   "outputs": [],
   "source": [
    "def get_image_paths(df_row):\n",
    "    export_folder = os.path.join(exports_folder, df_row[\"recording id\"])\n",
    "    images_paths = np.empty((4), dtype=str)\n",
    "\n",
    "    for i, (camera_folder,index_name) in enumerate(zip(camera_folders, indices_names)):\n",
    "        image_paths[i] = os.path.join(export_folder, camera_folder, str(df_row[index_name])+ \".png\")\n",
    "    #for idx, camera_folder in zip(indices_names, camera_folders):\n",
    "    #    print(idx)\n",
    "    return image_paths\n",
    "\n",
    "def plot_images(image_paths):\n",
    "    fig, axes = plt.subplots(2, 2)\n",
    "    for i, ax in enumerate(axes.flat):\n",
    "        ax.imshow(plt.imread(image_paths[i]))\n",
    "        ax.set_title(image_paths[i].split(\"/\")[-2])\n",
    "        fig.tight_layout()\n",
    "        fig.set_size_inches(10, 8)\n",
    "        ax.axis('off')\n",
    "    plt.show()    \n",
    "        "
   ]
  },
  {
   "cell_type": "code",
   "execution_count": 115,
   "metadata": {},
   "outputs": [],
   "source": [
    "\n",
    "exports_df = pd.read_csv(os.path.join(exports_folder, \"all_df.csv\"))\n",
    "#select 10 random rows\n",
    "random_df = exports_df.sample(n=10)\n",
    "#apply function to each row\n",
    "image_paths = random_df.apply(lambda x: get_image_paths(x), axis=1)\n",
    "image_paths = image_paths.values\n",
    "\n",
    "for paths in image_paths:\n",
    "    plot_images(paths)\n"
   ]
  }
 ],
 "metadata": {
  "kernelspec": {
   "display_name": "gazeacq",
   "language": "python",
   "name": "python3"
  },
  "language_info": {
   "codemirror_mode": {
    "name": "ipython",
    "version": 3
   },
   "file_extension": ".py",
   "mimetype": "text/x-python",
   "name": "python",
   "nbconvert_exporter": "python",
   "pygments_lexer": "ipython3",
   "version": "3.8.16"
  },
  "orig_nbformat": 4
 },
 "nbformat": 4,
 "nbformat_minor": 2
}
