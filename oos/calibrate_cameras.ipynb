{
 "cells": [
  {
   "cell_type": "code",
   "execution_count": 14,
   "metadata": {},
   "outputs": [],
   "source": [
    "import numpy as np\n",
    "import cv2 as cv\n",
    "import glob\n",
    "from constants import *\n",
    "import os\n",
    "from time import sleep\n",
    "world_footage_path = os.path.join(recordings_folder, \"camera_calibrations\",\"world_footage\")\n",
    "depth_footage_path = os.path.join(recordings_folder, \"camera_calibrations\",\"depth_footage\")"
   ]
  },
  {
   "attachments": {},
   "cell_type": "markdown",
   "metadata": {},
   "source": [
    "## record depth camera"
   ]
  },
  {
   "cell_type": "code",
   "execution_count": 2,
   "metadata": {},
   "outputs": [
    {
     "name": "stdout",
     "output_type": "stream",
     "text": [
      "C:/Users/mathi/Documents/GitHub/gaze_data_acquisition/mathis/recordings/camera_calibrations\\depth_footage_2\n"
     ]
    },
    {
     "ename": "",
     "evalue": "",
     "output_type": "error",
     "traceback": [
      "\u001b[1;31mThe Kernel crashed while executing code in the the current cell or a previous cell. Please review the code in the cell(s) to identify a possible cause of the failure. Click <a href='https://aka.ms/vscodeJupyterKernelCrash'>here</a> for more info. View Jupyter <a href='command:jupyter.viewOutput'>log</a> for further details."
     ]
    }
   ],
   "source": [
    "\"\"\"\n",
    "import pyrealsense2 as rs\n",
    "#record frames into depth footage path as png's\n",
    "\n",
    "depth_footage_path =depth_footage_path + \"_2\"\n",
    "print(depth_footage_path)\n",
    "rs_config = rs.config()\n",
    "rs_config.enable_stream(rs.stream.color, 640, 480, rs.format.bgr8, 15)\n",
    "\n",
    "pipeline = rs.pipeline()\n",
    "pipeline.start(rs_config)\n",
    "\n",
    "\n",
    "for i in range(20):\n",
    "    frames = pipeline.wait_for_frames()\n",
    "    color_frame = frames.get_color_frame()\n",
    "    color_image = np.asanyarray(color_frame.get_data())\n",
    "    cv.imwrite(os.path.join(depth_footage_path, str(i) + \".png\"), color_image)\n",
    "\n",
    "#only keep 20% of the frames\n",
    "depth_frames = glob.glob(os.path.join(depth_footage_path, \"*.png\"))\n",
    "depth_frames.sort(key=os.path.getmtime)\n",
    "for i in range(len(depth_frames)):\n",
    "    if i % 5 != 0:\n",
    "        os.remove(depth_frames[i])\n",
    "\"\"\""
   ]
  },
  {
   "cell_type": "code",
   "execution_count": 4,
   "metadata": {},
   "outputs": [
    {
     "name": "stdout",
     "output_type": "stream",
     "text": [
      "30.026383606797022\n"
     ]
    }
   ],
   "source": [
    "\"\"\"\n",
    "#extract frames from world footage path as png's\n",
    "world_cam_path = os.path.join(world_footage_path,\"world_vid.mp4\")\n",
    "video = cv.VideoCapture(world_cam_path)\n",
    "fps = video. get(cv. CAP_PROP_FPS)\n",
    "print(fps)\n",
    "i = 0\n",
    "while True:\n",
    "    ret, frame = video.read()\n",
    "    if not ret:\n",
    "        break\n",
    "    if i %12 == 0:\n",
    "        cv.imwrite(os.path.join(world_footage_path, str(i) + \".png\"), frame)\n",
    "    i += 1\n",
    "\"\"\"\n"
   ]
  },
  {
   "attachments": {},
   "cell_type": "markdown",
   "metadata": {},
   "source": [
    "## world camera"
   ]
  },
  {
   "cell_type": "code",
   "execution_count": 5,
   "metadata": {},
   "outputs": [],
   "source": [
    "#calibrate the world camera with checkerboard images with cv2\n",
    "# termination criteria\n",
    "criteria = (cv.TERM_CRITERIA_EPS + cv.TERM_CRITERIA_MAX_ITER, 30, 0.001)\n",
    "# prepare object points, like (0,0,0), (1,0,0), (2,0,0) ....,(6,5,0)\n",
    "objp = np.zeros((8*11,3), np.float32)\n",
    "objp[:,:2] = np.mgrid[0:8,0:11].T.reshape(-1,2)*60                        #60mm between each square\n",
    "# Arrays to store object points and image points from all the images.\n",
    "objpoints = [] # 3d point in real world space\n",
    "imgpoints = [] # 2d points in image plane.\n",
    "images = glob.glob(os.path.join(world_footage_path,'*.png'))\n",
    "for fname in images:\n",
    "    img = cv.imread(fname)\n",
    "    gray = cv.cvtColor(img, cv.COLOR_BGR2GRAY)\n",
    "    # Find the chess board corners\n",
    "    ret, corners = cv.findChessboardCorners(gray, (8,11), None)\n",
    "    # If found, add object points, image points (after refining them)\n",
    "    if ret == True:\n",
    "        objpoints.append(objp)\n",
    "        corners2 = cv.cornerSubPix(gray,corners, (11,11), (-1,-1), criteria)\n",
    "        imgpoints.append(corners2)\n",
    "        # Draw and display the corners\n",
    "        cv.drawChessboardCorners(img, (8,11), corners2, ret)\n",
    "        cv.imshow('img', img)\n",
    "        cv.waitKey(500)\n",
    "cv.destroyAllWindows()"
   ]
  },
  {
   "cell_type": "code",
   "execution_count": 7,
   "metadata": {},
   "outputs": [
    {
     "name": "stdout",
     "output_type": "stream",
     "text": [
      "ret:  0.325259142496391\n",
      "mtx:  [[757.52356581   0.         548.84273484]\n",
      " [  0.         758.05514165 539.54825932]\n",
      " [  0.           0.           1.        ]]\n",
      "dist:  [[-0.340153    0.17212689  0.00064248  0.00134531  0.0156342 ]]\n",
      "rvecs:  (array([[ 0.43195008],\n",
      "       [ 0.17326403],\n",
      "       [-1.48404255]]), array([[ 0.2214916 ],\n",
      "       [ 0.2609044 ],\n",
      "       [-1.62428014]]), array([[ 0.54833807],\n",
      "       [ 0.05735206],\n",
      "       [-1.42323475]]), array([[ 0.2430816 ],\n",
      "       [ 0.22957633],\n",
      "       [-1.58695265]]), array([[ 0.28423145],\n",
      "       [ 0.19303374],\n",
      "       [-1.55451967]]), array([[ 0.31020647],\n",
      "       [ 0.0966573 ],\n",
      "       [-1.56040064]]), array([[ 0.32934928],\n",
      "       [ 0.00693279],\n",
      "       [-1.55438458]]), array([[ 0.41450797],\n",
      "       [-0.0194504 ],\n",
      "       [-1.5273012 ]]), array([[ 0.3724626 ],\n",
      "       [-0.04822276],\n",
      "       [-1.50510404]]), array([[ 0.2474025 ],\n",
      "       [-0.17500359],\n",
      "       [-1.51881049]]), array([[ 0.18870717],\n",
      "       [-0.21265244],\n",
      "       [-1.53968523]]), array([[ 0.22381503],\n",
      "       [-0.18560587],\n",
      "       [-1.54606676]]), array([[ 0.33826163],\n",
      "       [-0.06917731],\n",
      "       [-1.5348154 ]]), array([[ 0.56886181],\n",
      "       [ 0.0091963 ],\n",
      "       [-1.37707648]]), array([[ 0.50069088],\n",
      "       [ 0.04039508],\n",
      "       [-1.51538203]]), array([[ 0.57298018],\n",
      "       [ 0.01330649],\n",
      "       [-1.36906961]]), array([[ 0.5880835 ],\n",
      "       [ 0.04236411],\n",
      "       [-1.39059987]]), array([[ 0.52081088],\n",
      "       [ 0.10018324],\n",
      "       [-1.493628  ]]), array([[ 0.34033046],\n",
      "       [ 0.19925582],\n",
      "       [-1.58241132]]), array([[ 0.22021546],\n",
      "       [ 0.21949073],\n",
      "       [-1.59838484]]), array([[ 0.19301709],\n",
      "       [ 0.24966831],\n",
      "       [-1.58232012]]))\n",
      "tvecs:  (array([[-260.5728373 ],\n",
      "       [   8.07815389],\n",
      "       [1131.28313052]]), array([[-463.15933299],\n",
      "       [ 143.32382827],\n",
      "       [1203.95161051]]), array([[-282.71396313],\n",
      "       [  31.99444644],\n",
      "       [1085.66197843]]), array([[-461.53117434],\n",
      "       [ 179.51548621],\n",
      "       [1224.73185529]]), array([[-417.36454814],\n",
      "       [ 259.13094385],\n",
      "       [1294.19215141]]), array([[-393.20693588],\n",
      "       [ 396.23903574],\n",
      "       [1334.59541332]]), array([[-374.71252213],\n",
      "       [ 463.92459329],\n",
      "       [1324.0119745 ]]), array([[-382.26551172],\n",
      "       [ 348.83597099],\n",
      "       [1291.42950088]]), array([[-347.01199915],\n",
      "       [ 160.73614417],\n",
      "       [1260.2905863 ]]), array([[-352.40733517],\n",
      "       [ 160.69565901],\n",
      "       [1259.72693616]]), array([[-333.5954647 ],\n",
      "       [ 152.76399897],\n",
      "       [1268.29832251]]), array([[-341.03409764],\n",
      "       [ 158.85313875],\n",
      "       [1279.7247795 ]]), array([[-357.34089339],\n",
      "       [ 181.06901859],\n",
      "       [1352.09923293]]), array([[-238.34531795],\n",
      "       [  74.68064583],\n",
      "       [1100.66515916]]), array([[-415.92879743],\n",
      "       [ 114.80949419],\n",
      "       [1423.35260889]]), array([[-221.45008183],\n",
      "       [  82.42858532],\n",
      "       [1109.75293488]]), array([[-255.61835177],\n",
      "       [  55.40488663],\n",
      "       [1103.7172371 ]]), array([[-307.66361333],\n",
      "       [  63.49670028],\n",
      "       [1099.65826872]]), array([[-335.78023201],\n",
      "       [ 114.85431886],\n",
      "       [1153.31472392]]), array([[-362.10013266],\n",
      "       [ 177.20893445],\n",
      "       [1199.16111029]]), array([[-424.61707328],\n",
      "       [ 151.05611201],\n",
      "       [1204.21392086]]))\n"
     ]
    }
   ],
   "source": [
    "ret, mtx, dist, rvecs, tvecs = cv.calibrateCamera(objpoints, imgpoints, gray.shape[::-1], None, None)\n",
    "#print all the calibration parameters\n",
    "print(\"ret: \", ret)\n",
    "print(\"mtx: \", mtx)\n",
    "print(\"dist: \", dist)\n",
    "print(\"rvecs: \", rvecs)\n",
    "print(\"tvecs: \", tvecs)"
   ]
  },
  {
   "attachments": {},
   "cell_type": "markdown",
   "metadata": {},
   "source": [
    "### calibrate distorsion"
   ]
  },
  {
   "cell_type": "code",
   "execution_count": 9,
   "metadata": {},
   "outputs": [],
   "source": [
    "img = cv.imread(os.path.join(world_footage_path, '108.png'))\n",
    "h,  w = img.shape[:2]\n",
    "newcameramtx, roi = cv.getOptimalNewCameraMatrix(mtx, dist, (w,h), 1, (w,h))"
   ]
  },
  {
   "cell_type": "code",
   "execution_count": 10,
   "metadata": {},
   "outputs": [
    {
     "data": {
      "text/plain": [
       "True"
      ]
     },
     "execution_count": 10,
     "metadata": {},
     "output_type": "execute_result"
    }
   ],
   "source": [
    "# undistort\n",
    "dst = cv.undistort(img, mtx, dist, None, newcameramtx)\n",
    "# crop the image\n",
    "x, y, w, h = roi\n",
    "dst = dst[y:y+h, x:x+w]\n",
    "calibration_path = os.path.join(recordings_folder, \"camera_calibrations\",\"calibration_world.png\")\n",
    "cv.imwrite(calibration_path, dst)"
   ]
  },
  {
   "cell_type": "code",
   "execution_count": 11,
   "metadata": {},
   "outputs": [
    {
     "data": {
      "text/plain": [
       "True"
      ]
     },
     "execution_count": 11,
     "metadata": {},
     "output_type": "execute_result"
    }
   ],
   "source": [
    "# undistort\n",
    "mapx, mapy = cv.initUndistortRectifyMap(mtx, dist, None, newcameramtx, (w,h), 5)\n",
    "dst = cv.remap(img, mapx, mapy, cv.INTER_LINEAR)\n",
    "# crop the image\n",
    "x, y, w, h = roi\n",
    "dst = dst[y:y+h, x:x+w]\n",
    "calibration_path = os.path.join(recordings_folder, \"camera_calibrations\",\"calibration_world_2.png\")\n",
    "cv.imwrite(calibration_path, dst)"
   ]
  },
  {
   "attachments": {},
   "cell_type": "markdown",
   "metadata": {},
   "source": [
    "## Depth camera"
   ]
  },
  {
   "cell_type": "code",
   "execution_count": 18,
   "metadata": {},
   "outputs": [],
   "source": [
    "#calibrate the world camera with checkerboard images with cv2\n",
    "# termination criteria\n",
    "criteria = (cv.TERM_CRITERIA_EPS + cv.TERM_CRITERIA_MAX_ITER, 30, 0.001)\n",
    "# prepare object points, like (0,0,0), (1,0,0), (2,0,0) ....,(6,5,0)\n",
    "objp = np.zeros((8*11,3), np.float32)\n",
    "objp[:,:2] = np.mgrid[0:8,0:11].T.reshape(-1,2)*60                        #60mm between each square\n",
    "# Arrays to store object points and image points from all the images.\n",
    "objpoints = [] # 3d point in real world space\n",
    "imgpoints = [] # 2d points in image plane.\n",
    "images = glob.glob(os.path.join(depth_footage_path,'*.png'))\n",
    "for fname in images:\n",
    "    img = cv.imread(fname)\n",
    "    gray = cv.cvtColor(img, cv.COLOR_BGR2GRAY)\n",
    "    # Find the chess board corners\n",
    "    ret, corners = cv.findChessboardCorners(gray, (8,11), None)\n",
    "    # If found, add object points, image points (after refining them)\n",
    "    if ret == True:\n",
    "        objpoints.append(objp)\n",
    "        corners2 = cv.cornerSubPix(gray,corners, (11,11), (-1,-1), criteria)\n",
    "        imgpoints.append(corners2)\n",
    "        # Draw and display the corners\n",
    "        cv.drawChessboardCorners(img, (8,11), corners2, ret)\n",
    "        cv.imshow('img', img)\n",
    "        cv.waitKey(500)\n",
    "cv.destroyAllWindows()"
   ]
  },
  {
   "cell_type": "code",
   "execution_count": 19,
   "metadata": {},
   "outputs": [
    {
     "name": "stdout",
     "output_type": "stream",
     "text": [
      "ret:  0.18172094223444762\n",
      "mtx:  [[610.88622433   0.         314.66214168]\n",
      " [  0.         612.29341612 250.33631586]\n",
      " [  0.           0.           1.        ]]\n",
      "dist:  [[-1.29888314e-02  1.29486325e+00  1.66978628e-03  3.40160858e-04\n",
      "  -5.25260849e+00]]\n",
      "rvecs:  (array([[ 0.28042749],\n",
      "       [-0.58138443],\n",
      "       [-1.49569071]]), array([[ 0.42078158],\n",
      "       [-0.62360987],\n",
      "       [-1.45670158]]), array([[ 0.29273702],\n",
      "       [-0.47114341],\n",
      "       [-1.46590522]]), array([[ 0.1678887 ],\n",
      "       [-0.3518077 ],\n",
      "       [-1.44488639]]), array([[-0.05513107],\n",
      "       [-0.22693008],\n",
      "       [-1.41750544]]), array([[-0.22237335],\n",
      "       [-0.03123571],\n",
      "       [-1.36859448]]), array([[-0.36282971],\n",
      "       [ 0.0661867 ],\n",
      "       [-1.31594206]]), array([[ 0.25470126],\n",
      "       [-0.55181713],\n",
      "       [-1.48288636]]), array([[-0.41983458],\n",
      "       [ 0.11307207],\n",
      "       [-1.31577625]]), array([[-0.6205629 ],\n",
      "       [ 0.27501126],\n",
      "       [-1.21467501]]), array([[-0.65551056],\n",
      "       [ 0.38064894],\n",
      "       [-1.14091932]]), array([[-0.63806965],\n",
      "       [ 0.44215206],\n",
      "       [-1.16207084]]), array([[-0.64541214],\n",
      "       [ 0.4854474 ],\n",
      "       [-1.1707991 ]]), array([[-0.61422497],\n",
      "       [ 0.51850327],\n",
      "       [-1.18241135]]), array([[-0.60588607],\n",
      "       [ 0.5241671 ],\n",
      "       [-1.19580803]]), array([[-0.55599725],\n",
      "       [ 0.39258624],\n",
      "       [-1.26621154]]), array([[-0.43556611],\n",
      "       [ 0.11549784],\n",
      "       [-1.34585543]]), array([[-0.41518535],\n",
      "       [-0.12055858],\n",
      "       [-1.39235478]]), array([[ 0.34529863],\n",
      "       [-0.56459994],\n",
      "       [-1.47751978]]), array([[-0.43596024],\n",
      "       [-0.33412884],\n",
      "       [-1.3858877 ]]), array([[-0.3432138 ],\n",
      "       [-0.17056738],\n",
      "       [-1.33500022]]), array([[-0.22193497],\n",
      "       [-0.05752898],\n",
      "       [-1.32088963]]), array([[-0.19792676],\n",
      "       [-0.06162454],\n",
      "       [-1.33325857]]), array([[ 0.06934987],\n",
      "       [-0.2878135 ],\n",
      "       [-1.40713341]]), array([[ 0.18627254],\n",
      "       [-0.36870533],\n",
      "       [-1.42016789]]), array([[ 0.38289684],\n",
      "       [-0.48930205],\n",
      "       [-1.40047169]]), array([[ 0.52755838],\n",
      "       [-0.60024431],\n",
      "       [-1.35772783]]), array([[ 0.52229661],\n",
      "       [-0.59352169],\n",
      "       [-1.33776112]]), array([[ 0.48931722],\n",
      "       [-0.67984239],\n",
      "       [-1.47074454]]), array([[ 0.53826525],\n",
      "       [-0.61062965],\n",
      "       [-1.34306891]]))\n",
      "tvecs:  (array([[-231.51212742],\n",
      "       [ 314.83160784],\n",
      "       [1464.29337453]]), array([[-230.6272636 ],\n",
      "       [ 208.48131819],\n",
      "       [1400.45430731]]), array([[-276.99996737],\n",
      "       [ 145.75641593],\n",
      "       [1437.26591807]]), array([[-332.29159825],\n",
      "       [ 120.10838589],\n",
      "       [1328.31514904]]), array([[-273.75645709],\n",
      "       [ 140.0903851 ],\n",
      "       [1292.05754939]]), array([[-343.72166573],\n",
      "       [ 135.37524769],\n",
      "       [1365.97565185]]), array([[-347.73055928],\n",
      "       [ 133.85841784],\n",
      "       [1434.11348924]]), array([[-212.41203574],\n",
      "       [ 290.51813036],\n",
      "       [1476.3692538 ]]), array([[-420.60997352],\n",
      "       [ 130.15511854],\n",
      "       [1540.98052685]]), array([[-347.72001695],\n",
      "       [  98.37030989],\n",
      "       [1667.78060895]]), array([[-266.31186126],\n",
      "       [ 124.52099708],\n",
      "       [1680.01964778]]), array([[-237.97468522],\n",
      "       [ 200.5231534 ],\n",
      "       [1703.6964182 ]]), array([[-163.51355598],\n",
      "       [ 288.61323276],\n",
      "       [1731.94411084]]), array([[-193.16991837],\n",
      "       [ 265.54060737],\n",
      "       [1731.9664971 ]]), array([[-179.92247247],\n",
      "       [ 237.72604145],\n",
      "       [1742.11699302]]), array([[-284.58935478],\n",
      "       [ 133.16407596],\n",
      "       [1646.79857949]]), array([[-390.2397399 ],\n",
      "       [ 152.32396466],\n",
      "       [1443.68161079]]), array([[-405.37373734],\n",
      "       [ 145.91553359],\n",
      "       [1310.77478724]]), array([[-279.80391319],\n",
      "       [ 214.85203578],\n",
      "       [1444.65051222]]), array([[-408.62450597],\n",
      "       [  36.4994689 ],\n",
      "       [1185.21192166]]), array([[-346.79329978],\n",
      "       [ -51.96500008],\n",
      "       [1213.86985151]]), array([[-344.82165431],\n",
      "       [   9.96267498],\n",
      "       [1218.16201141]]), array([[-348.8855459 ],\n",
      "       [  68.67969815],\n",
      "       [1111.00523564]]), array([[-334.90826944],\n",
      "       [ 117.73231208],\n",
      "       [1235.18176398]]), array([[-288.56571224],\n",
      "       [ 112.18834881],\n",
      "       [1124.22764945]]), array([[-243.95795138],\n",
      "       [ 103.62538149],\n",
      "       [1037.57927834]]), array([[-210.13748753],\n",
      "       [  93.61109486],\n",
      "       [1017.97790524]]), array([[-204.87224649],\n",
      "       [ 110.7325854 ],\n",
      "       [ 977.01391897]]), array([[-232.91388487],\n",
      "       [ 194.86842858],\n",
      "       [1394.32601551]]), array([[-231.91736405],\n",
      "       [  97.61957013],\n",
      "       [ 988.09454537]]))\n"
     ]
    }
   ],
   "source": [
    "ret, mtx, dist, rvecs, tvecs = cv.calibrateCamera(objpoints, imgpoints, gray.shape[::-1], None, None)\n",
    "#print all the calibration parameters\n",
    "print(\"ret: \", ret)\n",
    "print(\"mtx: \", mtx)\n",
    "print(\"dist: \", dist)\n",
    "print(\"rvecs: \", rvecs)\n",
    "print(\"tvecs: \", tvecs)"
   ]
  },
  {
   "cell_type": "code",
   "execution_count": null,
   "metadata": {},
   "outputs": [],
   "source": [
    "img = cv.imread(os.path.join(depth_footage_path, '100.png'))\n",
    "h,  w = img.shape[:2]\n",
    "newcameramtx, roi = cv.getOptimalNewCameraMatrix(mtx, dist, (w,h), 1, (w,h))"
   ]
  },
  {
   "cell_type": "code",
   "execution_count": null,
   "metadata": {},
   "outputs": [],
   "source": [
    "# undistort\n",
    "dst = cv.undistort(img, mtx, dist, None, newcameramtx)\n",
    "# crop the image\n",
    "x, y, w, h = roi\n",
    "dst = dst[y:y+h, x:x+w]\n",
    "calibration_path = os.path.join(recordings_folder, \"camera_calibrations\",\"calibration_depth.png\")\n",
    "cv.imwrite(calibration_path, dst)"
   ]
  },
  {
   "cell_type": "code",
   "execution_count": null,
   "metadata": {},
   "outputs": [],
   "source": [
    "# undistort\n",
    "mapx, mapy = cv.initUndistortRectifyMap(mtx, dist, None, newcameramtx, (w,h), 5)\n",
    "dst = cv.remap(img, mapx, mapy, cv.INTER_LINEAR)\n",
    "# crop the image\n",
    "x, y, w, h = roi\n",
    "dst = dst[y:y+h, x:x+w]\n",
    "calibration_path = os.path.join(recordings_folder, \"camera_calibrations\",\"calibration_depth_2.png\")\n",
    "cv.imwrite(calibration_path, dst)"
   ]
  }
 ],
 "metadata": {
  "kernelspec": {
   "display_name": "gazeacq",
   "language": "python",
   "name": "python3"
  },
  "language_info": {
   "codemirror_mode": {
    "name": "ipython",
    "version": 3
   },
   "file_extension": ".py",
   "mimetype": "text/x-python",
   "name": "python",
   "nbconvert_exporter": "python",
   "pygments_lexer": "ipython3",
   "version": "3.8.16"
  },
  "orig_nbformat": 4
 },
 "nbformat": 4,
 "nbformat_minor": 2
}
