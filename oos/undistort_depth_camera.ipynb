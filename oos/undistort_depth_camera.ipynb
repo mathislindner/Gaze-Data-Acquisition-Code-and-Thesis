{
 "cells": [
  {
   "cell_type": "code",
   "execution_count": 5,
   "metadata": {},
   "outputs": [],
   "source": [
    "import pyrealsense2 as rs\n",
    "\n",
    "#open bag file with rs and get intrinsics\n",
    "pipeline = rs.pipeline()\n",
    "config = rs.config()\n",
    "config.enable_device_from_file(r\"C:\\Users\\mathi\\Documents\\GitHub\\gaze_data_acquisition\\mathis\\recordings\\f5b09068-d395-493c-80e6-7eb0cbb6478a\\realsensed435.bag\", repeat_playback=False)\n",
    "profile = pipeline.start(config)\n",
    "playback = profile.get_device().as_playback()\n",
    "playback.set_real_time(False)\n",
    "frames = pipeline.wait_for_frames()\n",
    "depth_frame = frames.get_depth_frame()\n",
    "color_frame = frames.get_color_frame()\n",
    "depth_intrinsics = depth_frame.profile.as_video_stream_profile().intrinsics\n",
    "color_intrinsics = color_frame.profile.as_video_stream_profile().intrinsics\n",
    "\n"
   ]
  },
  {
   "cell_type": "code",
   "execution_count": 7,
   "metadata": {},
   "outputs": [
    {
     "name": "stdout",
     "output_type": "stream",
     "text": [
      "640 480 388.0116271972656 388.0116271972656 321.6023254394531 241.12362670898438\n",
      "640 480 616.2463989257812 616.6265258789062 312.24853515625 250.3607940673828\n"
     ]
    }
   ],
   "source": [
    "print(depth_intrinsics.width, depth_intrinsics.height, depth_intrinsics.fx, depth_intrinsics.fy, depth_intrinsics.ppx, depth_intrinsics.ppy)\n",
    "print(color_intrinsics.width, color_intrinsics.height, color_intrinsics.fx, color_intrinsics.fy, color_intrinsics.ppx, color_intrinsics.ppy)"
   ]
  }
 ],
 "metadata": {
  "kernelspec": {
   "display_name": "gazeacq",
   "language": "python",
   "name": "python3"
  },
  "language_info": {
   "codemirror_mode": {
    "name": "ipython",
    "version": 3
   },
   "file_extension": ".py",
   "mimetype": "text/x-python",
   "name": "python",
   "nbconvert_exporter": "python",
   "pygments_lexer": "ipython3",
   "version": "3.8.16"
  },
  "orig_nbformat": 4
 },
 "nbformat": 4,
 "nbformat_minor": 2
}
