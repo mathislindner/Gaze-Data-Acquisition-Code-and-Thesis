{
 "cells": [
  {
   "cell_type": "code",
   "execution_count": 47,
   "metadata": {},
   "outputs": [],
   "source": [
    "from colmap_testing.colmap_helpers import read_write_model\n",
    "import os\n",
    "import cv2\n",
    "import numpy as np"
   ]
  },
  {
   "cell_type": "code",
   "execution_count": 48,
   "metadata": {},
   "outputs": [],
   "source": [
    "path_to_images = os.path.join(\"colmap_testing\", \"colmap_ws_aegis_room\",\"images\")\n",
    "image_names = os.listdir(path_to_images)\n",
    "image_names = sorted([int(os.path.splitext(name)[0]) for name in image_names])\n"
   ]
  },
  {
   "cell_type": "code",
   "execution_count": 49,
   "metadata": {},
   "outputs": [],
   "source": [
    "path_to_model = os.path.join(\"colmap_testing\", \"colmap_ws_aegis_room\", \"dense\",\"0\",\"sparse\")\n",
    "#path_to_images = os.path.join(\"colmap_testing\", \"colmap_ws_aegis_room\", \"dense\", \"0\", \"images\")\n",
    "#image_names = os.listdir(path_to_images)\n",
    "#image_names = sorted([int(os.path.splitext(name)[0]) for name in image_names])\n",
    "image_paths = [os.path.join(path_to_images, str(name) + \".png\") for name in image_names]\n",
    "\n",
    "rgb_images = np.array([np.array(cv2.imread(imagepath)) for imagepath in image_paths])\n",
    "colmap_model = read_write_model.read_model(path_to_model, \".bin\")\n",
    "\n",
    "#cameras:fx, fy, cx, cy, width, height\n",
    "#images:camera_id, qvec, tvec, name \n",
    "#points:xyz, rgb, error, image_ids, point2D_idxs\n",
    "cameras, images, points = read_write_model.read_model(path_to_model, \".bin\")\n",
    "\n",
    "\n",
    "# 3D point list with one line of data per point:\n",
    "# POINT3D_ID, X, Y, Z, R, G, B, ERROR, TRACK[] as (IMAGE_ID, POINT2D_IDX)\n",
    "points_keys = list(points.keys())\n",
    "random_key = np.random.choice(points_keys)\n",
    "random_point = points[random_key]\n",
    "\n",
    "# Image list with two lines of data per image:\n",
    "#   IMAGE_ID, QW, QX, QY, QZ, TX, TY, TZ, CAMERA_ID, NAME\n",
    "#   POINTS2D[] as (X, Y, POINT3D_ID)\n",
    "\n",
    "first_image = images[1]\n",
    "\n",
    "# Camera list with one line of data per camera:\n",
    "#   CAMERA_ID, MODEL, WIDTH, HEIGHT, PARAMS[]\n",
    "first_camera = cameras[1]\n",
    "\n",
    "\n",
    "\n",
    "#The coordinates of the projection/camera center are given by -R^t * T, \n",
    "# where R^t is the inverse/transpose of the 3x3 rotation matrix composed from the quaternion and T is the translation vector. \n",
    "# The local camera coordinate system of an image is defined in a way that the X axis points to the right, \n",
    "# the Y axis to the bottom, and the Z axis to the front as seen from the image.\n",
    "\n",
    "#calculate the projection/camera center"
   ]
  },
  {
   "cell_type": "code",
   "execution_count": 50,
   "metadata": {},
   "outputs": [],
   "source": [
    "\n",
    "#sort keys by name in the dictionary images\n",
    "def sort_keys_by_name(images):\n",
    "    keys = images.keys()\n",
    "\n",
    "    #get each name from the images\n",
    "    names = []\n",
    "    for key in keys:\n",
    "        names.append(images[key].name)\n",
    "    #remove the extension from the name\n",
    "    names = [int(os.path.splitext(name)[0]) for name in names]\n",
    "    sorted_idx = np.argsort(names)\n",
    "    keys = np.array(list(keys))[sorted_idx]\n",
    "    return keys"
   ]
  },
  {
   "cell_type": "code",
   "execution_count": 51,
   "metadata": {},
   "outputs": [
    {
     "name": "stdout",
     "output_type": "stream",
     "text": [
      "9.png\n",
      "19.png\n",
      "28.png\n",
      "37.png\n",
      "46.png\n",
      "55.png\n",
      "64.png\n",
      "121.png\n",
      "144.png\n",
      "167.png\n",
      "211.png\n",
      "234.png\n",
      "257.png\n",
      "301.png\n",
      "324.png\n",
      "347.png\n",
      "392.png\n",
      "414.png\n",
      "437.png\n",
      "482.png\n",
      "504.png\n",
      "527.png\n",
      "572.png\n",
      "595.png\n",
      "[5.65072284 4.04810207 8.21696423]\n"
     ]
    }
   ],
   "source": [
    "def get_frames(images, cameras, scale=1):\n",
    "    frames = []\n",
    "    keys = sort_keys_by_name(images)\n",
    "    \n",
    "    for key in keys:\n",
    "        img = images[key]\n",
    "        print(img.name)\n",
    "        # rotation\n",
    "        R = read_write_model.qvec2rotmat(img.qvec)\n",
    "\n",
    "        # translation\n",
    "        t = img.tvec\n",
    "\n",
    "        # invert\n",
    "        t = -R.T @ t\n",
    "        R = R.T\n",
    "\n",
    "        # intrinsics\n",
    "        cam = cameras[img.camera_id]\n",
    "        if cam.model in (\"SIMPLE_PINHOLE\", \"SIMPLE_RADIAL\", \"RADIAL\"):\n",
    "            fx = fy = cam.params[0]\n",
    "            cx = cam.params[1]\n",
    "            cy = cam.params[2]\n",
    "        elif cam.model in (\"PINHOLE\", \"OPENCV\", \"OPENCV_FISHEYE\", \"FULL_OPENCV\"):\n",
    "            fx = cam.params[0]\n",
    "            fy = cam.params[1]\n",
    "            cx = cam.params[2]\n",
    "            cy = cam.params[3]\n",
    "        else:\n",
    "            raise Exception(\"Camera model not supported\")\n",
    "\n",
    "        # intrinsics\n",
    "        K = np.identity(3)\n",
    "        K[0, 0] = fx\n",
    "        K[1, 1] = fy\n",
    "        K[0, 2] = cx\n",
    "        K[1, 2] = cy\n",
    "        frames.append((R, t, K))\n",
    "    return frames\n",
    "\n",
    "#frames are composed of R, t, K\n",
    "frames = get_frames(images, cameras)\n",
    "\n",
    "random_point_3d = random_point[1] #3d point coordinates xyz\n",
    "print(random_point_3d)"
   ]
  },
  {
   "cell_type": "code",
   "execution_count": 52,
   "metadata": {},
   "outputs": [
    {
     "name": "stdout",
     "output_type": "stream",
     "text": [
      "[[ 0.98901725  0.00372603  0.14775314]\n",
      " [ 0.00664032  0.99755256 -0.06960462]\n",
      " [-0.14765087  0.0698213   0.98657195]]\n",
      "[[ 4.65185843]\n",
      " [ 3.23646824]\n",
      " [-0.75078046]]\n",
      "[[ 9.89017252e-01  3.72602605e-03  1.47753143e-01  4.65185843e+00]\n",
      " [ 6.64032371e-03  9.97552556e-01 -6.96046211e-02  3.23646824e+00]\n",
      " [-1.47650874e-01  6.98212998e-02  9.86571946e-01 -7.50780457e-01]]\n"
     ]
    }
   ],
   "source": [
    "R, t, K = frames[0]\n",
    "#add nested to t\n",
    "t = np.array([t]).T\n",
    "print(R)\n",
    "print(t)\n",
    "print(np.hstack((R, t)))"
   ]
  },
  {
   "cell_type": "code",
   "execution_count": 54,
   "metadata": {},
   "outputs": [
    {
     "name": "stdout",
     "output_type": "stream",
     "text": [
      "[1.85335080e+03 1.30830039e+03 1.00000000e+00]\n",
      "[1.70776699e+03 1.17146550e+03 1.00000000e+00]\n",
      "[1.65368725e+03 1.08552494e+03 1.00000000e+00]\n",
      "[1.63912660e+03 1.06562528e+03 1.00000000e+00]\n",
      "[1.58436153e+03 1.06760245e+03 1.00000000e+00]\n",
      "[1.54139047e+03 1.05907551e+03 1.00000000e+00]\n",
      "[1.37965962e+03 1.02128322e+03 1.00000000e+00]\n",
      "[456.95009155 872.3667805    1.        ]\n",
      "[862.80188308 873.29629993   1.        ]\n",
      "[1.22960618e+03 9.58917295e+02 1.00000000e+00]\n",
      "[1.03753542e+03 8.78679413e+02 1.00000000e+00]\n",
      "[861.76377414 831.68077335   1.        ]\n",
      "[695.94642226 779.52202654   1.        ]\n",
      "[675.25318955 829.01724072   1.        ]\n",
      "[482.21391309 862.21560713   1.        ]\n",
      "[406.49257574 904.2651811    1.        ]\n",
      "[442.22136456 962.74800047   1.        ]\n",
      "[6.09295574e+02 1.10607194e+03 1.00000000e+00]\n",
      "[6.60395142e+02 1.11963973e+03 1.00000000e+00]\n",
      "[1.35405175e+03 6.37984428e+02 1.00000000e+00]\n",
      "[1.70052677e+03 9.89021992e+02 1.00000000e+00]\n",
      "[1.35444544e+03 1.12122875e+03 1.00000000e+00]\n",
      "[1.1205269e+03 1.0918061e+03 1.0000000e+00]\n",
      "[1.51924878e+03 1.08346871e+03 1.00000000e+00]\n"
     ]
    }
   ],
   "source": [
    "#project 3d point using the camera projection matrix onto the rgb image\n",
    "#project them all into the same image\n",
    "from matplotlib import pyplot as plt\n",
    "\n",
    "subplots = []\n",
    "for i,frame in enumerate(frames):\n",
    "    R, t, K = frame\n",
    "    #add nested to t\n",
    "    t = np.array([t]).T\n",
    "    P = K @ np.hstack((R, t)) #projection matrix\n",
    "    point_on_image = P @ np.hstack((random_point_3d, 1))\n",
    "    point_on_image = point_on_image / point_on_image[2]\n",
    "    print(point_on_image)\n",
    "    plt.scatter(point_on_image[0], point_on_image[1], c=\"r\")\n",
    "    plt.imshow(rgb_images[i])\n",
    "    plt.savefig(os.path.join(\"colmap_testing\",\"reprojections\",\"colmap_test_reproj{}.png\".format(i)))\n",
    "    #plt.show()\n",
    "    plt.close()\n",
    "    \n",
    "\n",
    "    \n",
    "\n"
   ]
  }
 ],
 "metadata": {
  "kernelspec": {
   "display_name": "gazeacq",
   "language": "python",
   "name": "python3"
  },
  "language_info": {
   "codemirror_mode": {
    "name": "ipython",
    "version": 3
   },
   "file_extension": ".py",
   "mimetype": "text/x-python",
   "name": "python",
   "nbconvert_exporter": "python",
   "pygments_lexer": "ipython3",
   "version": "3.8.16"
  },
  "orig_nbformat": 4
 },
 "nbformat": 4,
 "nbformat_minor": 2
}
