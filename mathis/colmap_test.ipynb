{
 "cells": [
  {
   "cell_type": "code",
   "execution_count": 137,
   "metadata": {},
   "outputs": [],
   "source": [
    "from colmap_testing.colmap_helpers import read_write_model\n",
    "import os\n",
    "import cv2\n",
    "import numpy as np"
   ]
  },
  {
   "cell_type": "code",
   "execution_count": 138,
   "metadata": {},
   "outputs": [],
   "source": [
    "path_to_images = os.path.join(\"colmap_testing\", \"colmap_ws_aegis_room\",\"images\")\n",
    "image_names = os.listdir(path_to_images)\n",
    "image_names = sorted([int(os.path.splitext(name)[0]) for name in image_names])\n"
   ]
  },
  {
   "cell_type": "code",
   "execution_count": 159,
   "metadata": {},
   "outputs": [
    {
     "name": "stdout",
     "output_type": "stream",
     "text": [
      "Point3D(id=2093, xyz=array([-15.60523128,  -2.48922039,  36.6431414 ]), rgb=array([105,  75,  58]), error=array(1.83328167), image_ids=array([10, 16,  4,  8, 21]), point2D_idxs=array([649, 706, 667, 951, 771]))\n"
     ]
    }
   ],
   "source": [
    "path_to_model = os.path.join(\"colmap_testing\", \"colmap_ws_aegis_room\", \"dense\",\"0\",\"sparse\")\n",
    "#path_to_images = os.path.join(\"colmap_testing\", \"colmap_ws_aegis_room\", \"dense\", \"0\", \"images\")\n",
    "#image_names = os.listdir(path_to_images)\n",
    "#image_names = sorted([int(os.path.splitext(name)[0]) for name in image_names])\n",
    "image_paths = [os.path.join(path_to_images, str(name) + \".png\") for name in image_names]\n",
    "\n",
    "rgb_images = np.array([np.array(cv2.imread(imagepath)) for imagepath in image_paths])\n",
    "colmap_model = read_write_model.read_model(path_to_model, \".bin\")\n",
    "\n",
    "#cameras:fx, fy, cx, cy, width, height\n",
    "#images:camera_id, qvec, tvec, name \n",
    "#points:xyz, rgb, error, image_ids, point2D_idxs\n",
    "cameras, images, points = read_write_model.read_model(path_to_model, \".bin\")\n",
    "\n",
    "\n",
    "# 3D point list with one line of data per point:\n",
    "# POINT3D_ID, X, Y, Z, R, G, B, ERROR, TRACK[] as (IMAGE_ID, POINT2D_IDX)\n",
    "points_keys = list(points.keys())\n",
    "z = 0\n",
    "while z < 20:\n",
    "    random_key = np.random.choice(points_keys)\n",
    "    random_point = points[random_key]\n",
    "    random_point_3d = random_point.xyz\n",
    "    z = random_point_3d[2]\n",
    "    print(random_point)\n",
    "\n",
    "# Image list with two lines of data per image:\n",
    "#   IMAGE_ID, QW, QX, QY, QZ, TX, TY, TZ, CAMERA_ID, NAME\n",
    "#   POINTS2D[] as (X, Y, POINT3D_ID)\n",
    "\n",
    "first_image = images[1]\n",
    "\n",
    "# Camera list with one line of data per camera:\n",
    "#   CAMERA_ID, MODEL, WIDTH, HEIGHT, PARAMS[]\n",
    "first_camera = cameras[1]\n",
    "\n",
    "\n",
    "\n",
    "#The coordinates of the projection/camera center are given by -R^t * T, \n",
    "# where R^t is the inverse/transpose of the 3x3 rotation matrix composed from the quaternion and T is the translation vector. \n",
    "# The local camera coordinate system of an image is defined in a way that the X axis points to the right, \n",
    "# the Y axis to the bottom, and the Z axis to the front as seen from the image.\n",
    "\n",
    "#calculate the projection/camera center"
   ]
  },
  {
   "cell_type": "code",
   "execution_count": 160,
   "metadata": {},
   "outputs": [],
   "source": [
    "\n",
    "#sort keys by name in the dictionary images\n",
    "def sort_keys_by_name(images):\n",
    "    keys = images.keys()\n",
    "\n",
    "    #get each name from the images\n",
    "    names = []\n",
    "    for key in keys:\n",
    "        names.append(images[key].name)\n",
    "    #remove the extension from the name\n",
    "    names = [int(os.path.splitext(name)[0]) for name in names]\n",
    "    sorted_idx = np.argsort(names)\n",
    "    keys = np.array(list(keys))[sorted_idx]\n",
    "    return keys"
   ]
  },
  {
   "cell_type": "code",
   "execution_count": 161,
   "metadata": {},
   "outputs": [
    {
     "name": "stdout",
     "output_type": "stream",
     "text": [
      "9.png\n",
      "19.png\n",
      "28.png\n",
      "37.png\n",
      "46.png\n",
      "55.png\n",
      "64.png\n",
      "121.png\n",
      "144.png\n",
      "167.png\n",
      "211.png\n",
      "234.png\n",
      "257.png\n",
      "301.png\n",
      "324.png\n",
      "347.png\n",
      "392.png\n",
      "414.png\n",
      "437.png\n",
      "482.png\n",
      "504.png\n",
      "527.png\n",
      "572.png\n",
      "595.png\n"
     ]
    }
   ],
   "source": [
    "def get_frames(images, cameras, scale=1):\n",
    "    frames = []\n",
    "    keys = sort_keys_by_name(images)\n",
    "    \n",
    "    for key in keys:\n",
    "        img = images[key]\n",
    "        print(img.name)\n",
    "        # rotation\n",
    "        R = read_write_model.qvec2rotmat(img.qvec)\n",
    "\n",
    "        # translation\n",
    "        t = img.tvec\n",
    "\n",
    "        # invert\n",
    "        t = -R.T @ t\n",
    "        R = R.T\n",
    "\n",
    "        # intrinsics\n",
    "        cam = cameras[img.camera_id]\n",
    "        if cam.model in (\"SIMPLE_PINHOLE\", \"SIMPLE_RADIAL\", \"RADIAL\"):\n",
    "            fx = fy = cam.params[0]\n",
    "            cx = cam.params[1]\n",
    "            cy = cam.params[2]\n",
    "        elif cam.model in (\"PINHOLE\", \"OPENCV\", \"OPENCV_FISHEYE\", \"FULL_OPENCV\"):\n",
    "            fx = cam.params[0]\n",
    "            fy = cam.params[1]\n",
    "            cx = cam.params[2]\n",
    "            cy = cam.params[3]\n",
    "        else:\n",
    "            raise Exception(\"Camera model not supported\")\n",
    "\n",
    "        # intrinsics\n",
    "        K = np.identity(3)\n",
    "        K[0, 0] = fx\n",
    "        K[1, 1] = fy\n",
    "        K[0, 2] = cx\n",
    "        K[1, 2] = cy\n",
    "        frames.append((R, t, K))\n",
    "    return frames\n",
    "\n",
    "#frames are composed of R, t, K\n",
    "frames = get_frames(images, cameras)"
   ]
  },
  {
   "cell_type": "code",
   "execution_count": 162,
   "metadata": {},
   "outputs": [
    {
     "name": "stdout",
     "output_type": "stream",
     "text": [
      "[[ 0.98901725  0.00372603  0.14775314]\n",
      " [ 0.00664032  0.99755256 -0.06960462]\n",
      " [-0.14765087  0.0698213   0.98657195]]\n",
      "[[ 4.65185843]\n",
      " [ 3.23646824]\n",
      " [-0.75078046]]\n",
      "[[ 9.89017252e-01  3.72602605e-03  1.47753143e-01  4.65185843e+00]\n",
      " [ 6.64032371e-03  9.97552556e-01 -6.96046211e-02  3.23646824e+00]\n",
      " [-1.47650874e-01  6.98212998e-02  9.86571946e-01 -7.50780457e-01]]\n"
     ]
    }
   ],
   "source": [
    "R, t, K = frames[0]\n",
    "#add nested to t\n",
    "t = np.array([t]).T\n",
    "print(R)\n",
    "print(t)\n",
    "print(np.hstack((R, t)))"
   ]
  },
  {
   "cell_type": "code",
   "execution_count": 164,
   "metadata": {},
   "outputs": [
    {
     "name": "stdout",
     "output_type": "stream",
     "text": [
      "[428.37352949 497.03996545   1.        ]\n",
      "[397.22704618 476.93058351   1.        ]\n",
      "[344.09656005 483.59726024   1.        ]\n",
      "[305.94296929 490.87816206   1.        ]\n",
      "[270.53673996 484.85923781   1.        ]\n",
      "[249.43981257 494.36362133   1.        ]\n",
      "[176.49524461 500.77765786   1.        ]\n",
      "[-1.01271812e+03  5.18580362e+02  1.00000000e+00]\n",
      "[-93.1478188  429.88995805   1.        ]\n",
      "[244.52081481 430.8782034    1.        ]\n",
      "[189.22040931 455.19921229   1.        ]\n",
      "[100.85083543 528.22597739   1.        ]\n",
      "[-149.35989833  578.89038143    1.        ]\n",
      "[ 76.59723001 538.04598022   1.        ]\n",
      "[ 25.64294026 527.97612284   1.        ]\n",
      "[146.27146902 523.2095829    1.        ]\n",
      "[161.23321094 552.89904762   1.        ]\n",
      "[162.07067433 601.82007981   1.        ]\n",
      "[142.32002299 608.62761998   1.        ]\n",
      "[487.03056648  63.54327077   1.        ]\n",
      "[591.03767353 304.10712099   1.        ]\n",
      "[408.59197767 565.91924124   1.        ]\n",
      "[  7.2502266  758.98373776   1.        ]\n",
      "[416.21198999 551.848581     1.        ]\n"
     ]
    }
   ],
   "source": [
    "#project 3d point using the camera projection matrix onto the rgb image\n",
    "#project them all into the same image\n",
    "from matplotlib import pyplot as plt\n",
    "\n",
    "subplots = []\n",
    "for i,frame in enumerate(frames):\n",
    "    R, t, K = frame\n",
    "    #add nested to t\n",
    "    t = np.array([t]).T\n",
    "    P = K @ np.hstack((R, t)) #projection matrix\n",
    "    point_on_image = P @ np.hstack((random_point_3d, 1))\n",
    "    point_on_image = point_on_image / point_on_image[2]\n",
    "    print(point_on_image)\n",
    "    plt.scatter(1080-point_on_image[0], 1080-point_on_image[1], c=\"r\")\n",
    "    plt.imshow(rgb_images[i])\n",
    "    plt.savefig(os.path.join(\"colmap_testing\",\"reprojections\",\"colmap_test_reproj{}.png\".format(i)))\n",
    "    #plt.show()\n",
    "    plt.close()\n",
    "    \n",
    "\n",
    "    \n",
    "\n"
   ]
  }
 ],
 "metadata": {
  "kernelspec": {
   "display_name": "gazeacq",
   "language": "python",
   "name": "python3"
  },
  "language_info": {
   "codemirror_mode": {
    "name": "ipython",
    "version": 3
   },
   "file_extension": ".py",
   "mimetype": "text/x-python",
   "name": "python",
   "nbconvert_exporter": "python",
   "pygments_lexer": "ipython3",
   "version": "3.8.16"
  },
  "orig_nbformat": 4
 },
 "nbformat": 4,
 "nbformat_minor": 2
}
