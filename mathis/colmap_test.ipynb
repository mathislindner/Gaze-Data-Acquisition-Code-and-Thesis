{
 "cells": [
  {
   "cell_type": "code",
   "execution_count": 105,
   "metadata": {},
   "outputs": [],
   "source": [
    "from colmap_testing.colmap_helpers import read_write_model\n",
    "import os\n",
    "import cv2\n",
    "import numpy as np\n",
    "from constants import *\n",
    "from matplotlib import pyplot as plt\n",
    "\n",
    "#https://stackoverflow.com/questions/4813061/non-alphanumeric-list-order-from-os-listdir\n",
    "import re\n",
    "def sorted_alphanumeric(data):\n",
    "    convert = lambda text: int(text) if text.isdigit() else text.lower()\n",
    "    alphanum_key = lambda key: [ convert(c) for c in re.split('([0-9]+)', key) ] \n",
    "    return sorted(data, key=alphanum_key)\n"
   ]
  },
  {
   "cell_type": "code",
   "execution_count": 106,
   "metadata": {},
   "outputs": [],
   "source": [
    "recording_id = \"f5b09068-d395-493c-80e6-7eb0cbb6478a\"\n",
    "colmap_ws_path = os.path.join(recordings_folder, recording_id, \"colmap_ws\")\n",
    "colmap_dataset_path = os.path.join(colmap_ws_path, \"dataset\")\n",
    "colmap_output_path = os.path.join(colmap_ws_path, \"colmap_out\")\n",
    "\n",
    "#path_to_world_images = os.path.join(colmap_output_path,\"dense\", \"images\", \"world_images_distorted\")\n",
    "path_to_world_images = os.path.join(colmap_dataset_path, \"images\", \"world_images_undistorted\") #FIXME TEMPORARY\n",
    "#path_to_depth_rgb_images = os.path.join(colmap_output_path,\"dense\", \"images\", \"depth_images\")\n",
    "path_to_depth_rgb_images = os.path.join(colmap_dataset_path, \"images\", \"depth_images\") #FIXME TEMPORARY\n",
    "\n",
    "world_images = sorted_alphanumeric(os.listdir(path_to_world_images))\n",
    "depth_images = sorted_alphanumeric(os.listdir(path_to_depth_rgb_images))\n",
    "\n",
    "path_to_model = os.path.join(colmap_output_path, \"dense\",\"sparse\")\n",
    "path_to_model = os.path.join(colmap_output_path, \"sparse\", '0')                        #FIXME TEMPORARY\n",
    "world_image_paths = [os.path.join(path_to_world_images, str(name)) for name in world_images]\n",
    "depth_image_paths = [os.path.join(path_to_depth_rgb_images, str(name)) for name in depth_images]\n"
   ]
  },
  {
   "cell_type": "code",
   "execution_count": 107,
   "metadata": {},
   "outputs": [
    {
     "name": "stdout",
     "output_type": "stream",
     "text": [
      "[ 1 28 45]\n"
     ]
    }
   ],
   "source": [
    "world_images_array = np.array([np.array(cv2.imread(imagepath)) for imagepath in world_image_paths])\n",
    "depth_images_array = np.array([np.array(cv2.imread(imagepath)) for imagepath in depth_image_paths])\n",
    "\n",
    "colmap_model = read_write_model.read_model(path_to_model, \".bin\")\n",
    "\n",
    "#cameras:fx, fy, cx, cy, width, height\n",
    "#images:camera_id, qvec, tvec, name \n",
    "#points:xyz, rgb, error, image_ids, point2D_idxs\n",
    "cameras, images, points = read_write_model.read_model(path_to_model, \".bin\")\n",
    "\n",
    "# 3D point list with one line of data per point:\n",
    "# POINT3D_ID, X, Y, Z, R, G, B, ERROR, TRACK[] as (IMAGE_ID, POINT2D_IDX)\n",
    "points_keys = list(points.keys())\n",
    "\n",
    "image_ids_visible_point = []\n",
    "while 1 not in image_ids_visible_point or len(image_ids_visible_point) > 10 or len(image_ids_visible_point) > 6:\n",
    "    random_key = np.random.choice(points_keys)\n",
    "    random_point = points[random_key]\n",
    "    random_point_3d = random_point.xyz\n",
    "    image_ids_visible_point = random_point.image_ids\n",
    "\n",
    "print(image_ids_visible_point)\n",
    "\n",
    "# Image list with two lines of data per image:\n",
    "#   IMAGE_ID, QW, QX, QY, QZ, TX, TY, TZ, CAMERA_ID, NAME\n",
    "#   POINTS2D[] as (X, Y, POINT3D_ID)\n",
    "\n",
    "#first_image = images[1]\n",
    "\n",
    "# Camera list with one line of data per camera:\n",
    "#   CAMERA_ID, MODEL, WIDTH, HEIGHT, PARAMS[]\n",
    "#first_camera = cameras[1]\n",
    "\n",
    "\n",
    "\n",
    "#The coordinates of the projection/camera center are given by -R^t * T, \n",
    "# where R^t is the inverse/transpose of the 3x3 rotation matrix composed from the quaternion and T is the translation vector. \n",
    "# The local camera coordinate system of an image is defined in a way that the X axis points to the right, \n",
    "# the Y axis to the bottom, and the Z axis to the front as seen from the image.\n",
    "\n",
    "#calculate the projection/camera center"
   ]
  },
  {
   "cell_type": "code",
   "execution_count": 108,
   "metadata": {},
   "outputs": [],
   "source": [
    "def get_frames(images, cameras, scale=1):\n",
    "    frames = []\n",
    "    keys = images.keys()\n",
    "    \n",
    "    for key in keys:\n",
    "        img = images[key]\n",
    "        # rotation\n",
    "        R = read_write_model.qvec2rotmat(img.qvec)\n",
    "\n",
    "        # translation\n",
    "        t = img.tvec\n",
    "\n",
    "        # invert\n",
    "        t = -R.T @ t\n",
    "        R = R.T\n",
    "\n",
    "        # intrinsics\n",
    "        cam = cameras[img.camera_id]\n",
    "        print(cam)\n",
    "        if cam.model in (\"SIMPLE_PINHOLE\", \"SIMPLE_RADIAL\", \"RADIAL\"):\n",
    "            fx = fy = cam.params[0]\n",
    "            cx = cam.params[1]\n",
    "            cy = cam.params[2]\n",
    "        elif cam.model in (\"PINHOLE\", \"OPENCV\", \"OPENCV_FISHEYE\", \"FULL_OPENCV\"):\n",
    "            fx = cam.params[0]\n",
    "            fy = cam.params[1]\n",
    "            cx = cam.params[2]\n",
    "            cy = cam.params[3]\n",
    "            if cam.id == 2 and 0==1:\n",
    "                fx = 388.0116271972656\n",
    "                fy = 388.0116271972656\n",
    "                cx = 321.6023254394531\n",
    "                cy = 241.12362670898438\n",
    "        else:\n",
    "            raise Exception(\"Camera model not supported\")\n",
    "\n",
    "        # intrinsics\n",
    "        K = np.identity(3)\n",
    "        K[0, 0] = fx\n",
    "        K[1, 1] = fy\n",
    "        K[0, 2] = cx\n",
    "        K[1, 2] = cy\n",
    "        frames.append((key, R, t, K))\n",
    "    return frames"
   ]
  },
  {
   "cell_type": "code",
   "execution_count": 110,
   "metadata": {},
   "outputs": [
    {
     "name": "stdout",
     "output_type": "stream",
     "text": [
      "Camera(id=1, model='PINHOLE', width=640, height=480, params=array([388.0116272 , 388.0116272 , 321.60232544, 241.12362671]))\n",
      "Camera(id=2, model='PINHOLE', width=1088, height=1080, params=array([766.97180996, 766.49760879, 553.5783632 , 543.5611312 ]))\n",
      "Camera(id=2, model='PINHOLE', width=1088, height=1080, params=array([766.97180996, 766.49760879, 553.5783632 , 543.5611312 ]))\n",
      "326.3158915726614 396.145037138948\n",
      "549.7307990876938 612.3097026077862\n",
      "-35.339768010979014 534.8863699545747\n"
     ]
    }
   ],
   "source": [
    "visible_images = dict((image_id, images[image_id]) for image_id in random_point.image_ids)\n",
    "frames = get_frames(visible_images, cameras)\n",
    "if not os.path.exists(os.path.join(colmap_ws_path,\"reprojections_test\")):\n",
    "    os.mkdir(os.path.join(colmap_ws_path,\"reprojections_test\"))\n",
    "for frame in frames:\n",
    "    image_id, R, t, K = frame\n",
    "    if image_id == 1:\n",
    "        image_name = os.path.join(\"depth_images\",visible_images[image_id].name)\n",
    "    else:\n",
    "        image_name = os.path.join(\"world_images_undistorted\",visible_images[image_id].name)\n",
    "    path_to_image = os.path.join(colmap_output_path,\"dense\", \"images\", image_name)\n",
    "    path_to_image= os.path.join(colmap_dataset_path, \"images\", image_name)\n",
    "    image_array = cv2.imread(path_to_image)\n",
    "    #add nested to t\n",
    "    t = np.array([t]).T\n",
    "    P = K @ np.hstack((R, t)) #projection matrix\n",
    "    point_on_image = P @ np.hstack((random_point_3d, 1))\n",
    "    point_on_image = point_on_image / point_on_image[2]\n",
    "    image_dimensions = image_array.shape\n",
    "    print(image_dimensions[1]-point_on_image[0], image_dimensions[0]-point_on_image[1])\n",
    "    plt.scatter(image_dimensions[1]-point_on_image[0],image_dimensions[0]-point_on_image[1], c=\"r\")\n",
    "    plt.imshow(image_array)\n",
    "    plt.savefig(os.path.join(colmap_ws_path, \"reprojections_test\", str(image_id) + \".png\"))\n",
    "    #plt.show()\n",
    "    plt.close()"
   ]
  }
 ],
 "metadata": {
  "kernelspec": {
   "display_name": "gazeacq",
   "language": "python",
   "name": "python3"
  },
  "language_info": {
   "codemirror_mode": {
    "name": "ipython",
    "version": 3
   },
   "file_extension": ".py",
   "mimetype": "text/x-python",
   "name": "python",
   "nbconvert_exporter": "python",
   "pygments_lexer": "ipython3",
   "version": "3.8.16"
  },
  "orig_nbformat": 4
 },
 "nbformat": 4,
 "nbformat_minor": 2
}
