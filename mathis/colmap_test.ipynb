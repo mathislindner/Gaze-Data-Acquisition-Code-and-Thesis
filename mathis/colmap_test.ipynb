{
 "cells": [
  {
   "cell_type": "code",
   "execution_count": 70,
   "metadata": {},
   "outputs": [],
   "source": [
    "from colmap_testing.colmap_helpers import read_write_model\n",
    "import os\n",
    "import cv2\n",
    "import numpy as np"
   ]
  },
  {
   "cell_type": "code",
   "execution_count": 71,
   "metadata": {},
   "outputs": [],
   "source": [
    "db_folder = \"colmap_ws_aegis_room\"\n",
    "db_folder = \"colmap_ws_meeting_room\"\n",
    "\n",
    "path_to_images = os.path.join(\"colmap_testing\", db_folder,\"images\")\n",
    "image_names = os.listdir(path_to_images)\n",
    "image_names = sorted([int(os.path.splitext(name)[0]) for name in image_names])\n"
   ]
  },
  {
   "cell_type": "code",
   "execution_count": 72,
   "metadata": {},
   "outputs": [
    {
     "name": "stdout",
     "output_type": "stream",
     "text": [
      "Point3D(id=4811, xyz=array([ -8.78716416,  -1.03744484, 261.80014018]), rgb=array([72, 71, 66]), error=array(0.68049642), image_ids=array([10, 11,  6]), point2D_idxs=array([664, 723, 586]))\n"
     ]
    }
   ],
   "source": [
    "path_to_model = os.path.join(\"colmap_testing\", db_folder, \"dense\",\"0\",\"sparse\")\n",
    "#path_to_images = os.path.join(\"colmap_testing\", \"colmap_ws_aegis_room\", \"dense\", \"0\", \"images\")\n",
    "#image_names = os.listdir(path_to_images)\n",
    "#image_names = sorted([int(os.path.splitext(name)[0]) for name in image_names])\n",
    "image_paths = [os.path.join(path_to_images, str(name) + \".png\") for name in image_names]\n",
    "\n",
    "rgb_images = np.array([np.array(cv2.imread(imagepath)) for imagepath in image_paths])\n",
    "colmap_model = read_write_model.read_model(path_to_model, \".bin\")\n",
    "\n",
    "#cameras:fx, fy, cx, cy, width, height\n",
    "#images:camera_id, qvec, tvec, name \n",
    "#points:xyz, rgb, error, image_ids, point2D_idxs\n",
    "cameras, images, points = read_write_model.read_model(path_to_model, \".bin\")\n",
    "\n",
    "\n",
    "# 3D point list with one line of data per point:\n",
    "# POINT3D_ID, X, Y, Z, R, G, B, ERROR, TRACK[] as (IMAGE_ID, POINT2D_IDX)\n",
    "points_keys = list(points.keys())\n",
    "z = 0\n",
    "while z < 20:\n",
    "    random_key = np.random.choice(points_keys)\n",
    "    random_point = points[random_key]\n",
    "    random_point_3d = random_point.xyz\n",
    "    z = random_point_3d[2]\n",
    "    print(random_point)\n",
    "\n",
    "# Image list with two lines of data per image:\n",
    "#   IMAGE_ID, QW, QX, QY, QZ, TX, TY, TZ, CAMERA_ID, NAME\n",
    "#   POINTS2D[] as (X, Y, POINT3D_ID)\n",
    "\n",
    "first_image = images[1]\n",
    "\n",
    "# Camera list with one line of data per camera:\n",
    "#   CAMERA_ID, MODEL, WIDTH, HEIGHT, PARAMS[]\n",
    "first_camera = cameras[1]\n",
    "\n",
    "\n",
    "\n",
    "#The coordinates of the projection/camera center are given by -R^t * T, \n",
    "# where R^t is the inverse/transpose of the 3x3 rotation matrix composed from the quaternion and T is the translation vector. \n",
    "# The local camera coordinate system of an image is defined in a way that the X axis points to the right, \n",
    "# the Y axis to the bottom, and the Z axis to the front as seen from the image.\n",
    "\n",
    "#calculate the projection/camera center"
   ]
  },
  {
   "cell_type": "code",
   "execution_count": 73,
   "metadata": {},
   "outputs": [],
   "source": [
    "\n",
    "#sort keys by name in the dictionary images\n",
    "def sort_keys_by_name(images):\n",
    "    keys = images.keys()\n",
    "\n",
    "    #get each name from the images\n",
    "    names = []\n",
    "    for key in keys:\n",
    "        names.append(images[key].name)\n",
    "    #remove the extension from the name\n",
    "    names = [int(os.path.splitext(name)[0]) for name in names]\n",
    "    sorted_idx = np.argsort(names)\n",
    "    keys = np.array(list(keys))[sorted_idx]\n",
    "    return keys"
   ]
  },
  {
   "cell_type": "code",
   "execution_count": 74,
   "metadata": {},
   "outputs": [
    {
     "name": "stdout",
     "output_type": "stream",
     "text": [
      "3.png\n",
      "72.png\n",
      "145.png\n",
      "218.png\n",
      "291.png\n",
      "364.png\n",
      "437.png\n",
      "510.png\n",
      "583.png\n",
      "656.png\n",
      "729.png\n"
     ]
    }
   ],
   "source": [
    "def get_frames(images, cameras, scale=1):\n",
    "    frames = []\n",
    "    keys = sort_keys_by_name(images)\n",
    "    \n",
    "    for key in keys:\n",
    "        img = images[key]\n",
    "        print(img.name)\n",
    "        # rotation\n",
    "        R = read_write_model.qvec2rotmat(img.qvec)\n",
    "\n",
    "        # translation\n",
    "        t = img.tvec\n",
    "\n",
    "        # invert\n",
    "        t = -R.T @ t\n",
    "        R = R.T\n",
    "\n",
    "        # intrinsics\n",
    "        cam = cameras[img.camera_id]\n",
    "        if cam.model in (\"SIMPLE_PINHOLE\", \"SIMPLE_RADIAL\", \"RADIAL\"):\n",
    "            fx = fy = cam.params[0]\n",
    "            cx = cam.params[1]\n",
    "            cy = cam.params[2]\n",
    "        elif cam.model in (\"PINHOLE\", \"OPENCV\", \"OPENCV_FISHEYE\", \"FULL_OPENCV\"):\n",
    "            fx = cam.params[0]\n",
    "            fy = cam.params[1]\n",
    "            cx = cam.params[2]\n",
    "            cy = cam.params[3]\n",
    "        else:\n",
    "            raise Exception(\"Camera model not supported\")\n",
    "\n",
    "        # intrinsics\n",
    "        K = np.identity(3)\n",
    "        K[0, 0] = fx\n",
    "        K[1, 1] = fy\n",
    "        K[0, 2] = cx\n",
    "        K[1, 2] = cy\n",
    "        frames.append((R, t, K))\n",
    "    return frames\n",
    "\n",
    "#frames are composed of R, t, K\n",
    "frames = get_frames(images, cameras)"
   ]
  },
  {
   "cell_type": "code",
   "execution_count": 75,
   "metadata": {},
   "outputs": [
    {
     "name": "stdout",
     "output_type": "stream",
     "text": [
      "[[ 0.95587225 -0.15886082  0.24712644]\n",
      " [ 0.17090655  0.98489107 -0.02793806]\n",
      " [-0.23895436  0.06894075  0.9685804 ]]\n",
      "[[-0.06315274]\n",
      " [-0.68384528]\n",
      " [ 3.27146292]]\n",
      "[[ 0.95587225 -0.15886082  0.24712644 -0.06315274]\n",
      " [ 0.17090655  0.98489107 -0.02793806 -0.68384528]\n",
      " [-0.23895436  0.06894075  0.9685804   3.27146292]]\n"
     ]
    }
   ],
   "source": [
    "R, t, K = frames[0]\n",
    "#add nested to t\n",
    "t = np.array([t]).T\n",
    "print(R)\n",
    "print(t)\n",
    "print(np.hstack((R, t)))"
   ]
  },
  {
   "cell_type": "code",
   "execution_count": 77,
   "metadata": {},
   "outputs": [
    {
     "name": "stdout",
     "output_type": "stream",
     "text": [
      "[706.83484621 485.89160513   1.        ]\n",
      "[304.31226295 399.89888862   1.        ]\n",
      "[922.47975119 653.90406011   1.        ]\n",
      "[703.45470264 448.68744292   1.        ]\n",
      "[230.41377389 479.77508511   1.        ]\n",
      "[451.30286683 527.87474906   1.        ]\n",
      "[700.83182669 500.55322808   1.        ]\n",
      "[103.00425722 467.79121746   1.        ]\n",
      "[735.67052195 526.06941147   1.        ]\n",
      "[410.76470838 471.25045467   1.        ]\n",
      "[451.27231417 535.60344041   1.        ]\n"
     ]
    }
   ],
   "source": [
    "#project 3d point using the camera projection matrix onto the rgb image\n",
    "#project them all into the same image\n",
    "from matplotlib import pyplot as plt\n",
    "\n",
    "if not os.path.exists(os.path.join(\"colmap_testing\",\"reprojections\",db_folder)):\n",
    "    os.makedirs(os.path.join(\"colmap_testing\",\"reprojections\",db_folder))\n",
    "subplots = []\n",
    "for i,frame in enumerate(frames):\n",
    "    R, t, K = frame\n",
    "    #add nested to t\n",
    "    t = np.array([t]).T\n",
    "    P = K @ np.hstack((R, t)) #projection matrix\n",
    "    point_on_image = P @ np.hstack((random_point_3d, 1))\n",
    "    point_on_image = point_on_image / point_on_image[2]\n",
    "    print(point_on_image)\n",
    "    plt.scatter(1080-point_on_image[0], 1080-point_on_image[1], c=\"r\")\n",
    "    plt.imshow(rgb_images[i])\n",
    "    plt.savefig(os.path.join(\"colmap_testing\",\"reprojections\",db_folder,\"{}.png\".format(i)))\n",
    "    #plt.show()\n",
    "    plt.close()\n",
    "    \n",
    "\n",
    "    \n",
    "\n"
   ]
  }
 ],
 "metadata": {
  "kernelspec": {
   "display_name": "gazeacq",
   "language": "python",
   "name": "python3"
  },
  "language_info": {
   "codemirror_mode": {
    "name": "ipython",
    "version": 3
   },
   "file_extension": ".py",
   "mimetype": "text/x-python",
   "name": "python",
   "nbconvert_exporter": "python",
   "pygments_lexer": "ipython3",
   "version": "3.8.16"
  },
  "orig_nbformat": 4
 },
 "nbformat": 4,
 "nbformat_minor": 2
}
