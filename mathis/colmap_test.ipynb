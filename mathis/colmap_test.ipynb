{
 "cells": [
  {
   "cell_type": "code",
   "execution_count": 1,
   "metadata": {},
   "outputs": [],
   "source": [
    "from colmap_testing.colmap_helpers import read_write_model\n",
    "import os\n",
    "import cv2\n",
    "import numpy as np"
   ]
  },
  {
   "cell_type": "code",
   "execution_count": 2,
   "metadata": {},
   "outputs": [],
   "source": [
    "#db_folder = \"colmap_ws_aegis_room\"\n",
    "#db_folder = \"colmap_ws_meeting_room\"\n",
    "#db_folder = \"colmap_ws_meeting_room_2\"\n",
    "db_folder = \"colmap_ws_meeting_room_3\"\n",
    "path_to_images = os.path.join(\"colmap_testing\", db_folder,\"images\")\n",
    "image_names = os.listdir(path_to_images)\n",
    "image_names = sorted([int(os.path.splitext(name)[0]) for name in image_names])\n"
   ]
  },
  {
   "cell_type": "code",
   "execution_count": 14,
   "metadata": {},
   "outputs": [
    {
     "ename": "FileNotFoundError",
     "evalue": "[Errno 2] No such file or directory: 'colmap_testing\\\\colmap_ws_meeting_room_3\\\\colmap_ws\\\\colmap_out\\\\cameras.bin'",
     "output_type": "error",
     "traceback": [
      "\u001b[1;31m---------------------------------------------------------------------------\u001b[0m",
      "\u001b[1;31mFileNotFoundError\u001b[0m                         Traceback (most recent call last)",
      "Cell \u001b[1;32mIn[14], line 6\u001b[0m\n\u001b[0;32m      3\u001b[0m image_paths \u001b[39m=\u001b[39m [os\u001b[39m.\u001b[39mpath\u001b[39m.\u001b[39mjoin(path_to_images, \u001b[39mstr\u001b[39m(name) \u001b[39m+\u001b[39m \u001b[39m\"\u001b[39m\u001b[39m.png\u001b[39m\u001b[39m\"\u001b[39m) \u001b[39mfor\u001b[39;00m name \u001b[39min\u001b[39;00m image_names]\n\u001b[0;32m      5\u001b[0m rgb_images \u001b[39m=\u001b[39m np\u001b[39m.\u001b[39marray([np\u001b[39m.\u001b[39marray(cv2\u001b[39m.\u001b[39mimread(imagepath)) \u001b[39mfor\u001b[39;00m imagepath \u001b[39min\u001b[39;00m image_paths])\n\u001b[1;32m----> 6\u001b[0m colmap_model \u001b[39m=\u001b[39m read_write_model\u001b[39m.\u001b[39;49mread_model(path_to_model, \u001b[39m\"\u001b[39;49m\u001b[39m.bin\u001b[39;49m\u001b[39m\"\u001b[39;49m)\n\u001b[0;32m      8\u001b[0m \u001b[39m#cameras:fx, fy, cx, cy, width, height\u001b[39;00m\n\u001b[0;32m      9\u001b[0m \u001b[39m#images:camera_id, qvec, tvec, name \u001b[39;00m\n\u001b[0;32m     10\u001b[0m \u001b[39m#points:xyz, rgb, error, image_ids, point2D_idxs\u001b[39;00m\n\u001b[0;32m     11\u001b[0m cameras, images, points \u001b[39m=\u001b[39m read_write_model\u001b[39m.\u001b[39mread_model(path_to_model, \u001b[39m\"\u001b[39m\u001b[39m.bin\u001b[39m\u001b[39m\"\u001b[39m)\n",
      "File \u001b[1;32mc:\\Users\\mathi\\Documents\\GitHub\\gaze_data_acquisition\\mathis\\colmap_testing\\colmap_helpers\\read_write_model.py:435\u001b[0m, in \u001b[0;36mread_model\u001b[1;34m(path, ext)\u001b[0m\n\u001b[0;32m    433\u001b[0m     points3D \u001b[39m=\u001b[39m read_points3D_text(os\u001b[39m.\u001b[39mpath\u001b[39m.\u001b[39mjoin(path, \u001b[39m\"\u001b[39m\u001b[39mpoints3D\u001b[39m\u001b[39m\"\u001b[39m) \u001b[39m+\u001b[39m ext)\n\u001b[0;32m    434\u001b[0m \u001b[39melse\u001b[39;00m:\n\u001b[1;32m--> 435\u001b[0m     cameras \u001b[39m=\u001b[39m read_cameras_binary(os\u001b[39m.\u001b[39;49mpath\u001b[39m.\u001b[39;49mjoin(path, \u001b[39m\"\u001b[39;49m\u001b[39mcameras\u001b[39;49m\u001b[39m\"\u001b[39;49m \u001b[39m+\u001b[39;49m ext))\n\u001b[0;32m    436\u001b[0m     images \u001b[39m=\u001b[39m read_images_binary(os\u001b[39m.\u001b[39mpath\u001b[39m.\u001b[39mjoin(path, \u001b[39m\"\u001b[39m\u001b[39mimages\u001b[39m\u001b[39m\"\u001b[39m \u001b[39m+\u001b[39m ext))\n\u001b[0;32m    437\u001b[0m     points3D \u001b[39m=\u001b[39m read_points3D_binary(os\u001b[39m.\u001b[39mpath\u001b[39m.\u001b[39mjoin(path, \u001b[39m\"\u001b[39m\u001b[39mpoints3D\u001b[39m\u001b[39m\"\u001b[39m) \u001b[39m+\u001b[39m ext)\n",
      "File \u001b[1;32mc:\\Users\\mathi\\Documents\\GitHub\\gaze_data_acquisition\\mathis\\colmap_testing\\colmap_helpers\\read_write_model.py:134\u001b[0m, in \u001b[0;36mread_cameras_binary\u001b[1;34m(path_to_model_file)\u001b[0m\n\u001b[0;32m    128\u001b[0m \u001b[39m\u001b[39m\u001b[39m\"\"\"\u001b[39;00m\n\u001b[0;32m    129\u001b[0m \u001b[39msee: src/base/reconstruction.cc\u001b[39;00m\n\u001b[0;32m    130\u001b[0m \u001b[39m    void Reconstruction::WriteCamerasBinary(const std::string& path)\u001b[39;00m\n\u001b[0;32m    131\u001b[0m \u001b[39m    void Reconstruction::ReadCamerasBinary(const std::string& path)\u001b[39;00m\n\u001b[0;32m    132\u001b[0m \u001b[39m\"\"\"\u001b[39;00m\n\u001b[0;32m    133\u001b[0m cameras \u001b[39m=\u001b[39m {}\n\u001b[1;32m--> 134\u001b[0m \u001b[39mwith\u001b[39;00m \u001b[39mopen\u001b[39;49m(path_to_model_file, \u001b[39m\"\u001b[39;49m\u001b[39mrb\u001b[39;49m\u001b[39m\"\u001b[39;49m) \u001b[39mas\u001b[39;00m fid:\n\u001b[0;32m    135\u001b[0m     num_cameras \u001b[39m=\u001b[39m read_next_bytes(fid, \u001b[39m8\u001b[39m, \u001b[39m\"\u001b[39m\u001b[39mQ\u001b[39m\u001b[39m\"\u001b[39m)[\u001b[39m0\u001b[39m]\n\u001b[0;32m    136\u001b[0m     \u001b[39mfor\u001b[39;00m _ \u001b[39min\u001b[39;00m \u001b[39mrange\u001b[39m(num_cameras):\n",
      "\u001b[1;31mFileNotFoundError\u001b[0m: [Errno 2] No such file or directory: 'colmap_testing\\\\colmap_ws_meeting_room_3\\\\colmap_ws\\\\colmap_out\\\\cameras.bin'"
     ]
    }
   ],
   "source": [
    "#path_to_model = os.path.join(\"colmap_testing\", db_folder, \"sparse\",\"0\")\n",
    "path_to_model = os.path.join(\"colmap_testing\", db_folder, \"colmap_out\") #with depth camera added\n",
    "image_paths = [os.path.join(path_to_images, str(name) + \".png\") for name in image_names]\n",
    "\n",
    "rgb_images = np.array([np.array(cv2.imread(imagepath)) for imagepath in image_paths])\n",
    "colmap_model = read_write_model.read_model(path_to_model, \".bin\")\n",
    "\n",
    "#cameras:fx, fy, cx, cy, width, height\n",
    "#images:camera_id, qvec, tvec, name \n",
    "#points:xyz, rgb, error, image_ids, point2D_idxs\n",
    "cameras, images, points = read_write_model.read_model(path_to_model, \".bin\")\n",
    "print(path_to_model)\n",
    "print(len(images))\n",
    "\n",
    "# 3D point list with one line of data per point:\n",
    "# POINT3D_ID, X, Y, Z, R, G, B, ERROR, TRACK[] as (IMAGE_ID, POINT2D_IDX)\n",
    "points_keys = list(points.keys())\n",
    "\n",
    "random_key = np.random.choice(points_keys)\n",
    "random_point = points[random_key]\n",
    "random_point_3d = random_point.xyz\n",
    "z = random_point_3d[2]\n",
    "print(random_point)\n",
    "\n",
    "# Image list with two lines of data per image:\n",
    "#   IMAGE_ID, QW, QX, QY, QZ, TX, TY, TZ, CAMERA_ID, NAME\n",
    "#   POINTS2D[] as (X, Y, POINT3D_ID)\n",
    "\n",
    "#first_image = images[1]\n",
    "\n",
    "# Camera list with one line of data per camera:\n",
    "#   CAMERA_ID, MODEL, WIDTH, HEIGHT, PARAMS[]\n",
    "#first_camera = cameras[1]\n",
    "\n",
    "\n",
    "\n",
    "#The coordinates of the projection/camera center are given by -R^t * T, \n",
    "# where R^t is the inverse/transpose of the 3x3 rotation matrix composed from the quaternion and T is the translation vector. \n",
    "# The local camera coordinate system of an image is defined in a way that the X axis points to the right, \n",
    "# the Y axis to the bottom, and the Z axis to the front as seen from the image.\n",
    "\n",
    "#calculate the projection/camera center"
   ]
  },
  {
   "cell_type": "code",
   "execution_count": 12,
   "metadata": {},
   "outputs": [],
   "source": [
    "for index in images:\n",
    "    if images[index].name == \"292.png\":\n",
    "            print(\"yessir\")\n"
   ]
  },
  {
   "cell_type": "code",
   "execution_count": 4,
   "metadata": {},
   "outputs": [
    {
     "data": {
      "text/plain": [
       "{1: Camera(id=1, model='SIMPLE_RADIAL', width=1088, height=1080, params=array([ 7.59684442e+02,  5.44000000e+02,  5.40000000e+02, -3.44089992e-03])),\n",
       " 2: Camera(id=2, model='SIMPLE_RADIAL', width=1088, height=1080, params=array([ 7.47254264e+02,  5.44000000e+02,  5.40000000e+02, -2.34832519e-02])),\n",
       " 3: Camera(id=3, model='SIMPLE_RADIAL', width=1088, height=1080, params=array([ 7.46507807e+02,  5.44000000e+02,  5.40000000e+02, -2.24291751e-02])),\n",
       " 4: Camera(id=4, model='SIMPLE_RADIAL', width=1088, height=1080, params=array([ 7.48934603e+02,  5.44000000e+02,  5.40000000e+02, -1.28890118e-02])),\n",
       " 5: Camera(id=5, model='SIMPLE_RADIAL', width=1088, height=1080, params=array([ 7.63489457e+02,  5.44000000e+02,  5.40000000e+02, -7.96944780e-03])),\n",
       " 6: Camera(id=6, model='SIMPLE_RADIAL', width=1088, height=1080, params=array([ 7.67659383e+02,  5.44000000e+02,  5.40000000e+02, -8.26962980e-04])),\n",
       " 7: Camera(id=7, model='SIMPLE_RADIAL', width=1088, height=1080, params=array([ 7.66039567e+02,  5.44000000e+02,  5.40000000e+02, -2.45539355e-03])),\n",
       " 8: Camera(id=8, model='SIMPLE_RADIAL', width=1088, height=1080, params=array([ 7.66718087e+02,  5.44000000e+02,  5.40000000e+02, -6.90476980e-04])),\n",
       " 9: Camera(id=9, model='SIMPLE_RADIAL', width=1088, height=1080, params=array([ 7.58435514e+02,  5.44000000e+02,  5.40000000e+02, -2.50465494e-03])),\n",
       " 10: Camera(id=10, model='SIMPLE_RADIAL', width=1088, height=1080, params=array([ 7.56198855e+02,  5.44000000e+02,  5.40000000e+02, -3.64295544e-03])),\n",
       " 11: Camera(id=11, model='SIMPLE_RADIAL', width=1088, height=1080, params=array([ 7.56828543e+02,  5.44000000e+02,  5.40000000e+02, -5.20423674e-03])),\n",
       " 12: Camera(id=12, model='SIMPLE_RADIAL', width=1088, height=1080, params=array([ 7.56909808e+02,  5.44000000e+02,  5.40000000e+02, -8.11328829e-03])),\n",
       " 13: Camera(id=13, model='SIMPLE_RADIAL', width=1088, height=1080, params=array([ 7.56067487e+02,  5.44000000e+02,  5.40000000e+02, -6.81199114e-03])),\n",
       " 14: Camera(id=14, model='SIMPLE_RADIAL', width=1088, height=1080, params=array([ 7.65339695e+02,  5.44000000e+02,  5.40000000e+02, -4.94084780e-03])),\n",
       " 15: Camera(id=15, model='SIMPLE_RADIAL', width=1088, height=1080, params=array([ 7.68193230e+02,  5.44000000e+02,  5.40000000e+02, -8.17689931e-03])),\n",
       " 16: Camera(id=16, model='SIMPLE_RADIAL', width=1088, height=1080, params=array([ 7.25262801e+02,  5.44000000e+02,  5.40000000e+02, -4.97128329e-03])),\n",
       " 17: Camera(id=17, model='SIMPLE_RADIAL', width=1088, height=1080, params=array([ 7.63505097e+02,  5.44000000e+02,  5.40000000e+02, -5.27817449e-03])),\n",
       " 18: Camera(id=18, model='SIMPLE_RADIAL', width=1088, height=1080, params=array([ 8.02458175e+02,  5.44000000e+02,  5.40000000e+02, -4.77293806e-03])),\n",
       " 19: Camera(id=19, model='SIMPLE_RADIAL', width=1088, height=1080, params=array([7.63191472e+02, 5.44000000e+02, 5.40000000e+02, 1.18926130e-03])),\n",
       " 20: Camera(id=20, model='SIMPLE_RADIAL', width=1088, height=1080, params=array([7.59786457e+02, 5.44000000e+02, 5.40000000e+02, 1.35376728e-03])),\n",
       " 21: Camera(id=21, model='SIMPLE_RADIAL', width=1088, height=1080, params=array([7.65861336e+02, 5.44000000e+02, 5.40000000e+02, 1.19677186e-03])),\n",
       " 22: Camera(id=22, model='SIMPLE_RADIAL', width=1088, height=1080, params=array([ 7.61906863e+02,  5.44000000e+02,  5.40000000e+02, -1.36435702e-03])),\n",
       " 23: Camera(id=23, model='SIMPLE_RADIAL', width=1088, height=1080, params=array([ 7.65304740e+02,  5.44000000e+02,  5.40000000e+02, -2.18537875e-03])),\n",
       " 24: Camera(id=24, model='SIMPLE_RADIAL', width=1088, height=1080, params=array([7.67382563e+02, 5.44000000e+02, 5.40000000e+02, 1.86238183e-03])),\n",
       " 25: Camera(id=25, model='SIMPLE_RADIAL', width=1088, height=1080, params=array([7.66441067e+02, 5.44000000e+02, 5.40000000e+02, 3.71753416e-04])),\n",
       " 26: Camera(id=26, model='SIMPLE_RADIAL', width=1088, height=1080, params=array([ 7.65570632e+02,  5.44000000e+02,  5.40000000e+02, -1.88672348e-03])),\n",
       " 27: Camera(id=27, model='SIMPLE_RADIAL', width=1088, height=1080, params=array([ 7.65390700e+02,  5.44000000e+02,  5.40000000e+02, -5.02870773e-03])),\n",
       " 28: Camera(id=28, model='SIMPLE_RADIAL', width=1088, height=1080, params=array([ 7.65194076e+02,  5.44000000e+02,  5.40000000e+02, -3.59577051e-03])),\n",
       " 29: Camera(id=29, model='SIMPLE_RADIAL', width=1088, height=1080, params=array([ 7.65349424e+02,  5.44000000e+02,  5.40000000e+02, -3.24735454e-03])),\n",
       " 30: Camera(id=30, model='SIMPLE_RADIAL', width=1088, height=1080, params=array([ 7.61165449e+02,  5.44000000e+02,  5.40000000e+02, -3.62268105e-03])),\n",
       " 31: Camera(id=31, model='SIMPLE_RADIAL', width=1088, height=1080, params=array([ 8.00454234e+02,  5.44000000e+02,  5.40000000e+02, -1.68169229e-03])),\n",
       " 32: Camera(id=32, model='SIMPLE_RADIAL', width=1088, height=1080, params=array([ 7.95107040e+02,  5.44000000e+02,  5.40000000e+02, -3.22803983e-03])),\n",
       " 33: Camera(id=33, model='SIMPLE_RADIAL', width=1088, height=1080, params=array([ 7.79217998e+02,  5.44000000e+02,  5.40000000e+02, -1.32332717e-03])),\n",
       " 34: Camera(id=34, model='SIMPLE_RADIAL', width=1088, height=1080, params=array([ 7.66826000e+02,  5.44000000e+02,  5.40000000e+02, -8.95692519e-04])),\n",
       " 35: Camera(id=35, model='SIMPLE_RADIAL', width=1088, height=1080, params=array([7.88379154e+02, 5.44000000e+02, 5.40000000e+02, 3.63057309e-04])),\n",
       " 36: Camera(id=36, model='SIMPLE_RADIAL', width=1088, height=1080, params=array([7.86183080e+02, 5.44000000e+02, 5.40000000e+02, 1.96553601e-03])),\n",
       " 37: Camera(id=37, model='SIMPLE_RADIAL', width=1088, height=1080, params=array([7.72105554e+02, 5.44000000e+02, 5.40000000e+02, 4.85533889e-04])),\n",
       " 38: Camera(id=38, model='SIMPLE_RADIAL', width=1088, height=1080, params=array([ 7.62353033e+02,  5.44000000e+02,  5.40000000e+02, -2.20070214e-04])),\n",
       " 39: Camera(id=39, model='SIMPLE_RADIAL', width=1088, height=1080, params=array([ 7.61331332e+02,  5.44000000e+02,  5.40000000e+02, -1.85980580e-03])),\n",
       " 40: Camera(id=40, model='SIMPLE_RADIAL', width=1088, height=1080, params=array([ 7.59470436e+02,  5.44000000e+02,  5.40000000e+02, -4.99216144e-03])),\n",
       " 41: Camera(id=41, model='SIMPLE_RADIAL', width=1088, height=1080, params=array([ 7.61065211e+02,  5.44000000e+02,  5.40000000e+02, -6.81331605e-03])),\n",
       " 42: Camera(id=42, model='SIMPLE_RADIAL', width=1088, height=1080, params=array([7.76864168e+02, 5.44000000e+02, 5.40000000e+02, 8.37644224e-03])),\n",
       " 43: Camera(id=43, model='SIMPLE_RADIAL', width=1088, height=1080, params=array([7.74385720e+02, 5.44000000e+02, 5.40000000e+02, 3.94666176e-03])),\n",
       " 44: Camera(id=44, model='SIMPLE_RADIAL', width=1088, height=1080, params=array([ 7.72389275e+02,  5.44000000e+02,  5.40000000e+02, -6.43056278e-04])),\n",
       " 45: Camera(id=45, model='SIMPLE_RADIAL', width=1088, height=1080, params=array([ 7.65655501e+02,  5.44000000e+02,  5.40000000e+02, -1.54664855e-03])),\n",
       " 46: Camera(id=46, model='SIMPLE_RADIAL', width=1088, height=1080, params=array([ 7.67734892e+02,  5.44000000e+02,  5.40000000e+02, -2.30276150e-03])),\n",
       " 47: Camera(id=47, model='SIMPLE_RADIAL', width=1088, height=1080, params=array([ 7.57992391e+02,  5.44000000e+02,  5.40000000e+02, -1.53649492e-03])),\n",
       " 48: Camera(id=48, model='SIMPLE_RADIAL', width=1088, height=1080, params=array([ 7.56843529e+02,  5.44000000e+02,  5.40000000e+02, -7.91137167e-03])),\n",
       " 49: Camera(id=49, model='SIMPLE_RADIAL', width=1088, height=1080, params=array([1.00425906e+03, 5.44000000e+02, 5.40000000e+02, 1.65135242e-01])),\n",
       " 56: Camera(id=56, model='SIMPLE_RADIAL', width=1088, height=1080, params=array([ 7.64906846e+02,  5.44000000e+02,  5.40000000e+02, -2.54707538e-03])),\n",
       " 57: Camera(id=57, model='SIMPLE_RADIAL', width=1088, height=1080, params=array([ 7.57952932e+02,  5.44000000e+02,  5.40000000e+02, -6.55139632e-03])),\n",
       " 58: Camera(id=58, model='SIMPLE_RADIAL', width=1088, height=1080, params=array([ 7.53335305e+02,  5.44000000e+02,  5.40000000e+02, -1.83557526e-03])),\n",
       " 59: Camera(id=59, model='SIMPLE_RADIAL', width=1088, height=1080, params=array([ 7.47785242e+02,  5.44000000e+02,  5.40000000e+02, -1.37427452e-02]))}"
      ]
     },
     "execution_count": 4,
     "metadata": {},
     "output_type": "execute_result"
    }
   ],
   "source": [
    "cameras"
   ]
  },
  {
   "cell_type": "code",
   "execution_count": 67,
   "metadata": {},
   "outputs": [],
   "source": [
    "\n",
    "#sort keys by name in the dictionary images\n",
    "def sort_keys_by_name(images):\n",
    "    keys = images.keys()\n",
    "\n",
    "    #get each name from the images\n",
    "    names = []\n",
    "    for key in keys:\n",
    "        names.append(images[key].name)\n",
    "    #remove the extension from the name\n",
    "    names = [int(os.path.splitext(name)[0]) for name in names]\n",
    "    sorted_idx = np.argsort(names)\n",
    "    keys = np.array(list(keys))[sorted_idx]\n",
    "    return keys"
   ]
  },
  {
   "cell_type": "code",
   "execution_count": 68,
   "metadata": {},
   "outputs": [],
   "source": [
    "def get_frames(images, cameras, scale=1):\n",
    "    frames = []\n",
    "    keys = sort_keys_by_name(images)\n",
    "    \n",
    "    for key in keys:\n",
    "        img = images[key]\n",
    "        # rotation\n",
    "        R = read_write_model.qvec2rotmat(img.qvec)\n",
    "\n",
    "        # translation\n",
    "        t = img.tvec\n",
    "\n",
    "        # invert\n",
    "        t = -R.T @ t\n",
    "        R = R.T\n",
    "\n",
    "        # intrinsics\n",
    "        cam = cameras[img.camera_id]\n",
    "        if cam.model in (\"SIMPLE_PINHOLE\", \"SIMPLE_RADIAL\", \"RADIAL\"):\n",
    "            fx = fy = cam.params[0]\n",
    "            cx = cam.params[1]\n",
    "            cy = cam.params[2]\n",
    "        elif cam.model in (\"PINHOLE\", \"OPENCV\", \"OPENCV_FISHEYE\", \"FULL_OPENCV\"):\n",
    "            fx = cam.params[0]\n",
    "            fy = cam.params[1]\n",
    "            cx = cam.params[2]\n",
    "            cy = cam.params[3]\n",
    "        else:\n",
    "            raise Exception(\"Camera model not supported\")\n",
    "\n",
    "        # intrinsics\n",
    "        K = np.identity(3)\n",
    "        K[0, 0] = fx\n",
    "        K[1, 1] = fy\n",
    "        K[0, 2] = cx\n",
    "        K[1, 2] = cy\n",
    "        frames.append((R, t, K))\n",
    "    return frames\n",
    "\n",
    "#frames are composed of R, t, K\n",
    "frames = get_frames(images, cameras)"
   ]
  },
  {
   "cell_type": "code",
   "execution_count": 69,
   "metadata": {},
   "outputs": [
    {
     "name": "stdout",
     "output_type": "stream",
     "text": [
      "24\n",
      "[723.84118366 438.7179229    1.        ]\n",
      "[612.63249983 442.58252616   1.        ]\n",
      "[507.08223281 450.50748861   1.        ]\n",
      "[566.64166352 402.3094452    1.        ]\n",
      "[232.99238277 532.28518247   1.        ]\n",
      "[474.99297828 495.35691215   1.        ]\n",
      "[466.93036391 580.68337199   1.        ]\n",
      "[704.3793595  552.33317742   1.        ]\n"
     ]
    }
   ],
   "source": [
    "#project 3d point using the camera projection matrix onto the rgb image\n",
    "#project them all into the same image\n",
    "from matplotlib import pyplot as plt\n",
    "\n",
    "if not os.path.exists(os.path.join(\"colmap_testing\",\"reprojections\",db_folder)):\n",
    "    os.makedirs(os.path.join(\"colmap_testing\",\"reprojections\",db_folder))\n",
    "subplots = []\n",
    "print(len(frames))\n",
    "for i,frame in enumerate(frames):\n",
    "    # only show 10 out of the 30 frames\n",
    "    if i%3 == 0:\n",
    "        R, t, K = frame\n",
    "        #add nested to t\n",
    "        t = np.array([t]).T\n",
    "        P = K @ np.hstack((R, t)) #projection matrix\n",
    "        point_on_image = P @ np.hstack((random_point_3d, 1))\n",
    "        point_on_image = point_on_image / point_on_image[2]\n",
    "        print(point_on_image)\n",
    "        plt.scatter(1080-point_on_image[0], 1080-point_on_image[1], c=\"r\")\n",
    "        plt.imshow(rgb_images[i])\n",
    "        plt.savefig(os.path.join(\"colmap_testing\",\"reprojections\",db_folder,\"{}.png\".format(i)))\n",
    "        #plt.show()\n",
    "        plt.close()\n",
    "\n",
    "    \n",
    "\n",
    "    \n",
    "\n"
   ]
  }
 ],
 "metadata": {
  "kernelspec": {
   "display_name": "gazeacq",
   "language": "python",
   "name": "python3"
  },
  "language_info": {
   "codemirror_mode": {
    "name": "ipython",
    "version": 3
   },
   "file_extension": ".py",
   "mimetype": "text/x-python",
   "name": "python",
   "nbconvert_exporter": "python",
   "pygments_lexer": "ipython3",
   "version": "3.8.16"
  },
  "orig_nbformat": 4
 },
 "nbformat": 4,
 "nbformat_minor": 2
}
