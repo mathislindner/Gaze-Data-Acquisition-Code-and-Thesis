{
 "cells": [
  {
   "cell_type": "code",
   "execution_count": 64,
   "metadata": {},
   "outputs": [],
   "source": [
    "from colmap_testing.colmap_helpers import read_write_model\n",
    "import os\n",
    "import cv2\n",
    "import numpy as np"
   ]
  },
  {
   "cell_type": "code",
   "execution_count": 65,
   "metadata": {},
   "outputs": [],
   "source": [
    "db_folder = \"colmap_ws_aegis_room\"\n",
    "#db_folder = \"colmap_ws_meeting_room\"\n",
    "#db_folder = \"colmap_ws_meeting_room_2\"\n",
    "\n",
    "path_to_images = os.path.join(\"colmap_testing\", db_folder,\"images\")\n",
    "image_names = os.listdir(path_to_images)\n",
    "image_names = sorted([int(os.path.splitext(name)[0]) for name in image_names])\n"
   ]
  },
  {
   "cell_type": "code",
   "execution_count": 66,
   "metadata": {},
   "outputs": [
    {
     "name": "stdout",
     "output_type": "stream",
     "text": [
      "colmap_testing\\colmap_ws_aegis_room\\sparse\\0\n",
      "24\n",
      "Point3D(id=3720, xyz=array([-1.09376042, -5.88480156, 47.2535715 ]), rgb=array([17, 17, 13]), error=array(1.56467554), image_ids=array([ 4, 19, 18, 24, 22]), point2D_idxs=array([16, 17, 17, 15, 13]))\n"
     ]
    }
   ],
   "source": [
    "path_to_model = os.path.join(\"colmap_testing\", db_folder, \"sparse\",\"0\")\n",
    "#path_to_images = os.path.join(\"colmap_testing\", \"colmap_ws_aegis_room\", \"dense\", \"0\", \"images\")\n",
    "#image_names = os.listdir(path_to_images)\n",
    "#image_names = sorted([int(os.path.splitext(name)[0]) for name in image_names])\n",
    "image_paths = [os.path.join(path_to_images, str(name) + \".png\") for name in image_names]\n",
    "\n",
    "rgb_images = np.array([np.array(cv2.imread(imagepath)) for imagepath in image_paths])\n",
    "colmap_model = read_write_model.read_model(path_to_model, \".bin\")\n",
    "\n",
    "#cameras:fx, fy, cx, cy, width, height\n",
    "#images:camera_id, qvec, tvec, name \n",
    "#points:xyz, rgb, error, image_ids, point2D_idxs\n",
    "cameras, images, points = read_write_model.read_model(path_to_model, \".bin\")\n",
    "print(path_to_model)\n",
    "print(len(images))\n",
    "\n",
    "# 3D point list with one line of data per point:\n",
    "# POINT3D_ID, X, Y, Z, R, G, B, ERROR, TRACK[] as (IMAGE_ID, POINT2D_IDX)\n",
    "points_keys = list(points.keys())\n",
    "\n",
    "random_key = np.random.choice(points_keys)\n",
    "random_point = points[random_key]\n",
    "random_point_3d = random_point.xyz\n",
    "z = random_point_3d[2]\n",
    "print(random_point)\n",
    "\n",
    "# Image list with two lines of data per image:\n",
    "#   IMAGE_ID, QW, QX, QY, QZ, TX, TY, TZ, CAMERA_ID, NAME\n",
    "#   POINTS2D[] as (X, Y, POINT3D_ID)\n",
    "\n",
    "#first_image = images[1]\n",
    "\n",
    "# Camera list with one line of data per camera:\n",
    "#   CAMERA_ID, MODEL, WIDTH, HEIGHT, PARAMS[]\n",
    "#first_camera = cameras[1]\n",
    "\n",
    "\n",
    "\n",
    "#The coordinates of the projection/camera center are given by -R^t * T, \n",
    "# where R^t is the inverse/transpose of the 3x3 rotation matrix composed from the quaternion and T is the translation vector. \n",
    "# The local camera coordinate system of an image is defined in a way that the X axis points to the right, \n",
    "# the Y axis to the bottom, and the Z axis to the front as seen from the image.\n",
    "\n",
    "#calculate the projection/camera center"
   ]
  },
  {
   "cell_type": "code",
   "execution_count": 67,
   "metadata": {},
   "outputs": [],
   "source": [
    "\n",
    "#sort keys by name in the dictionary images\n",
    "def sort_keys_by_name(images):\n",
    "    keys = images.keys()\n",
    "\n",
    "    #get each name from the images\n",
    "    names = []\n",
    "    for key in keys:\n",
    "        names.append(images[key].name)\n",
    "    #remove the extension from the name\n",
    "    names = [int(os.path.splitext(name)[0]) for name in names]\n",
    "    sorted_idx = np.argsort(names)\n",
    "    keys = np.array(list(keys))[sorted_idx]\n",
    "    return keys"
   ]
  },
  {
   "cell_type": "code",
   "execution_count": 68,
   "metadata": {},
   "outputs": [],
   "source": [
    "def get_frames(images, cameras, scale=1):\n",
    "    frames = []\n",
    "    keys = sort_keys_by_name(images)\n",
    "    \n",
    "    for key in keys:\n",
    "        img = images[key]\n",
    "        # rotation\n",
    "        R = read_write_model.qvec2rotmat(img.qvec)\n",
    "\n",
    "        # translation\n",
    "        t = img.tvec\n",
    "\n",
    "        # invert\n",
    "        t = -R.T @ t\n",
    "        R = R.T\n",
    "\n",
    "        # intrinsics\n",
    "        cam = cameras[img.camera_id]\n",
    "        if cam.model in (\"SIMPLE_PINHOLE\", \"SIMPLE_RADIAL\", \"RADIAL\"):\n",
    "            fx = fy = cam.params[0]\n",
    "            cx = cam.params[1]\n",
    "            cy = cam.params[2]\n",
    "        elif cam.model in (\"PINHOLE\", \"OPENCV\", \"OPENCV_FISHEYE\", \"FULL_OPENCV\"):\n",
    "            fx = cam.params[0]\n",
    "            fy = cam.params[1]\n",
    "            cx = cam.params[2]\n",
    "            cy = cam.params[3]\n",
    "        else:\n",
    "            raise Exception(\"Camera model not supported\")\n",
    "\n",
    "        # intrinsics\n",
    "        K = np.identity(3)\n",
    "        K[0, 0] = fx\n",
    "        K[1, 1] = fy\n",
    "        K[0, 2] = cx\n",
    "        K[1, 2] = cy\n",
    "        frames.append((R, t, K))\n",
    "    return frames\n",
    "\n",
    "#frames are composed of R, t, K\n",
    "frames = get_frames(images, cameras)"
   ]
  },
  {
   "cell_type": "code",
   "execution_count": 69,
   "metadata": {},
   "outputs": [
    {
     "name": "stdout",
     "output_type": "stream",
     "text": [
      "24\n",
      "[723.84118366 438.7179229    1.        ]\n",
      "[612.63249983 442.58252616   1.        ]\n",
      "[507.08223281 450.50748861   1.        ]\n",
      "[566.64166352 402.3094452    1.        ]\n",
      "[232.99238277 532.28518247   1.        ]\n",
      "[474.99297828 495.35691215   1.        ]\n",
      "[466.93036391 580.68337199   1.        ]\n",
      "[704.3793595  552.33317742   1.        ]\n"
     ]
    }
   ],
   "source": [
    "#project 3d point using the camera projection matrix onto the rgb image\n",
    "#project them all into the same image\n",
    "from matplotlib import pyplot as plt\n",
    "\n",
    "if not os.path.exists(os.path.join(\"colmap_testing\",\"reprojections\",db_folder)):\n",
    "    os.makedirs(os.path.join(\"colmap_testing\",\"reprojections\",db_folder))\n",
    "subplots = []\n",
    "print(len(frames))\n",
    "for i,frame in enumerate(frames):\n",
    "    # only show 10 out of the 30 frames\n",
    "    if i%3 == 0:\n",
    "        R, t, K = frame\n",
    "        #add nested to t\n",
    "        t = np.array([t]).T\n",
    "        P = K @ np.hstack((R, t)) #projection matrix\n",
    "        point_on_image = P @ np.hstack((random_point_3d, 1))\n",
    "        point_on_image = point_on_image / point_on_image[2]\n",
    "        print(point_on_image)\n",
    "        plt.scatter(1080-point_on_image[0], 1080-point_on_image[1], c=\"r\")\n",
    "        plt.imshow(rgb_images[i])\n",
    "        plt.savefig(os.path.join(\"colmap_testing\",\"reprojections\",db_folder,\"{}.png\".format(i)))\n",
    "        #plt.show()\n",
    "        plt.close()\n",
    "\n",
    "    \n",
    "\n",
    "    \n",
    "\n"
   ]
  }
 ],
 "metadata": {
  "kernelspec": {
   "display_name": "gazeacq",
   "language": "python",
   "name": "python3"
  },
  "language_info": {
   "codemirror_mode": {
    "name": "ipython",
    "version": 3
   },
   "file_extension": ".py",
   "mimetype": "text/x-python",
   "name": "python",
   "nbconvert_exporter": "python",
   "pygments_lexer": "ipython3",
   "version": "3.8.16"
  },
  "orig_nbformat": 4
 },
 "nbformat": 4,
 "nbformat_minor": 2
}
