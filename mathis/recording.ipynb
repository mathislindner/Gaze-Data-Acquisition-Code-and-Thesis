{
 "cells": [
  {
   "attachments": {},
   "cell_type": "markdown",
   "metadata": {},
   "source": [
    "https://cloud.pupil-labs.com/workspace/9ae5e987-5235-486f-8552-427014bbedcd/recordings"
   ]
  },
  {
   "cell_type": "code",
   "execution_count": 2,
   "metadata": {},
   "outputs": [],
   "source": [
    "#pupil labs libs\n",
    "from pupil_labs.realtime_api.simple import Device\n",
    "import nest_asyncio\n",
    "\n",
    "#multiprocessing\n",
    "from pynput import keyboard\n",
    "from multiprocessing import Process, Event, Value\n",
    "from time import time\n",
    "\n",
    "nest_asyncio.apply()"
   ]
  },
  {
   "cell_type": "code",
   "execution_count": 3,
   "metadata": {},
   "outputs": [],
   "source": [
    "ip = \"10.5.50.141\"\n",
    "device = Device(address=ip, port=\"8080\")"
   ]
  },
  {
   "cell_type": "code",
   "execution_count": 4,
   "metadata": {},
   "outputs": [],
   "source": [
    "class AcquisitionLogic:\n",
    "    def __init__(self) -> None:\n",
    "        #processes\n",
    "        self.recording_process = Event()\n",
    "        self.trigger_event_process = Event()\n",
    "\n",
    "        self.event_i = Value('i', 0)\n",
    "        #constants\n",
    "        self.t_record =  60 #60 seconds of recording to test\n",
    "        self.t_event = 2.0 #this is the event of gaze\n",
    "        self.record_key = keyboard.Key.up\n",
    "        self.event_key = keyboard.Key.right\n",
    "\n",
    "    def on_press(self, key):\n",
    "\n",
    "        if key is self.record_key:\n",
    "            if self.recording_process.is_set():\n",
    "                raise Exception('Wait! Recording is currently activated.')\n",
    "            #else start recording process\n",
    "            self.recording_process = Process(target=self.start_record_process)\n",
    "            return\n",
    "        \n",
    "        if key is self.event_key:\n",
    "            if not self.recording_process.is_set():\n",
    "                raise Exception('Need to record to be able to trigger events')\n",
    "            #else trigger event\n",
    "            self.trigger_event_process = Process(target=self.start_trigger_event_process, args=(self.event_i.value,))\n",
    "\n",
    "    def start_record_process(self):\n",
    "        #assertions\n",
    "        freestorage = device.memory_num_free_bytes\n",
    "        battery = device.battery_level_percent\n",
    "        assert (freestorage > 5e9), \"Not enough free storage on device\" #at least 5GB space\n",
    "        assert (battery > 0.1), \"Battery is too low\" #at least 10% battery\n",
    "\n",
    "        recording_id = device.start_recording()\n",
    "        print(f'Started recording event. ({self.t_record} s)')\n",
    "        time.sleep(self.t_record)\n",
    "        device.recording_stop_and_save()\n",
    "        print(f'Ended recording event.')\n",
    "\n",
    "        \n",
    "\n",
    "    def start_trigger_event_process(self, event_id = 0):\n",
    "        #assertions\n",
    "        assert self.recording_process.is_set(), \"Need to record to be able to trigger events\"\n",
    "        #set event\n",
    "        device.send_event(event_id, event_timestamp_unix_ns=time.time_ns())\n",
    "        print(f'Triggered Event. ({self.t_event} s)')\n",
    "        self.event_i.value += 1"
   ]
  },
  {
   "cell_type": "code",
   "execution_count": 5,
   "metadata": {},
   "outputs": [],
   "source": [
    "acquisition_logic = AcquisitionLogic()\n",
    "with keyboard.Listener(on_press=acquisition_logic.on_press) as listener:\n",
    "    listener.join()\n"
   ]
  }
 ],
 "metadata": {
  "kernelspec": {
   "display_name": "gazeacq",
   "language": "python",
   "name": "python3"
  },
  "language_info": {
   "codemirror_mode": {
    "name": "ipython",
    "version": 3
   },
   "file_extension": ".py",
   "mimetype": "text/x-python",
   "name": "python",
   "nbconvert_exporter": "python",
   "pygments_lexer": "ipython3",
   "version": "3.8.16"
  },
  "orig_nbformat": 4
 },
 "nbformat": 4,
 "nbformat_minor": 2
}
